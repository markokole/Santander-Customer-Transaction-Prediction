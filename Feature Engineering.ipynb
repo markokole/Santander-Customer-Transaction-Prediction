{
 "cells": [
  {
   "cell_type": "code",
   "execution_count": 1,
   "metadata": {},
   "outputs": [],
   "source": [
    "import pandas as pd\n",
    "import numpy as np"
   ]
  },
  {
   "cell_type": "code",
   "execution_count": 2,
   "metadata": {},
   "outputs": [
    {
     "name": "stdout",
     "output_type": "stream",
     "text": [
      "Wall time: 13.5 s\n"
     ]
    }
   ],
   "source": [
    "%%time\n",
    "df = pd.read_csv(\"data/train.csv\")"
   ]
  },
  {
   "cell_type": "markdown",
   "metadata": {},
   "source": [
    "## Target"
   ]
  },
  {
   "cell_type": "code",
   "execution_count": 3,
   "metadata": {},
   "outputs": [],
   "source": [
    "target = pd.DataFrame(df['target']).to_records(index=False)\n",
    "data = {'target' : target}"
   ]
  },
  {
   "cell_type": "markdown",
   "metadata": {},
   "source": [
    "## Original dataset with features"
   ]
  },
  {
   "cell_type": "code",
   "execution_count": 14,
   "metadata": {},
   "outputs": [
    {
     "data": {
      "text/plain": [
       "(200000, 202)"
      ]
     },
     "execution_count": 14,
     "metadata": {},
     "output_type": "execute_result"
    }
   ],
   "source": [
    "df.shape"
   ]
  },
  {
   "cell_type": "code",
   "execution_count": 34,
   "metadata": {},
   "outputs": [
    {
     "name": "stdout",
     "output_type": "stream",
     "text": [
      "(200000,)\n",
      "Wall time: 1.34 s\n"
     ]
    }
   ],
   "source": [
    "%%time\n",
    "vanilla = df.drop(['ID_code', 'target'], axis=1).to_records(index=False)\n",
    "print(vanilla.shape)\n",
    "\n",
    "data['vanilla'] = vanilla"
   ]
  },
  {
   "cell_type": "markdown",
   "metadata": {},
   "source": [
    "## Dataset sorted by density"
   ]
  },
  {
   "cell_type": "code",
   "execution_count": 5,
   "metadata": {},
   "outputs": [],
   "source": [
    "def density_factor(var, _df=df, verbosity=False):\n",
    "    \"\"\"\n",
    "    Density difference between values of a variable grouped by target 0 and 1\n",
    "    \"\"\"\n",
    "    var_df = _df[[var, 'target']]\n",
    "    var_0 = var_df[var_df['target']  == 0][[var, 'target']]\n",
    "    var_1 = var_df[var_df['target']  == 1][[var, 'target']]\n",
    "    \n",
    "    var_0_mean = np.round(var_0[var].sum()/var_0.shape[0], 2)\n",
    "    var_1_mean = np.round(var_1[var].sum()/var_1.shape[0], 2)\n",
    "\n",
    "    diff = np.round(np.abs(var_0_mean - var_1_mean), 4)\n",
    "        \n",
    "    if verbosity:\n",
    "        print(\"var:\", var)\n",
    "        print(\"Shape:\", var_0.shape, var_1.shape)\n",
    "        print(\"Sum:\", var_0_mean, var_1_mean)\n",
    "        print(\"Difference between mean of 0 and 1:\", diff)\n",
    "        \n",
    "    return diff"
   ]
  },
  {
   "cell_type": "code",
   "execution_count": 6,
   "metadata": {},
   "outputs": [
    {
     "name": "stdout",
     "output_type": "stream",
     "text": [
      "Wall time: 5.56 s\n"
     ]
    }
   ],
   "source": [
    "%%time\n",
    "features_list = df.columns[2:]\n",
    "target_diff_df = pd.DataFrame(features_list, columns=['feature'])\n",
    "target_diff_df['diff'] = [density_factor(var=f, _df=df) for f in features_list]\n",
    "\n",
    "density_top_100 = target_diff_df.sort_values(by='diff', ascending=False).head(100)\n",
    "density_tail_100 = target_diff_df.sort_values(by='diff', ascending=False).tail(100)"
   ]
  },
  {
   "cell_type": "code",
   "execution_count": 7,
   "metadata": {},
   "outputs": [],
   "source": [
    "density_top_100 = density_top_100.to_records(index=False)\n",
    "density_tail_100 = density_tail_100.to_records(index=False)"
   ]
  },
  {
   "cell_type": "code",
   "execution_count": 8,
   "metadata": {},
   "outputs": [],
   "source": [
    "data['density_top_100'] = density_top_100\n",
    "data['density_tail_100'] = density_tail_100"
   ]
  },
  {
   "cell_type": "markdown",
   "metadata": {},
   "source": [
    "## Transformation: Log"
   ]
  },
  {
   "cell_type": "code",
   "execution_count": 85,
   "metadata": {},
   "outputs": [
    {
     "name": "stderr",
     "output_type": "stream",
     "text": [
      "C:\\Anaconda3\\lib\\site-packages\\ipykernel_launcher.py:2: RuntimeWarning: divide by zero encountered in log\n",
      "  \n",
      "C:\\Anaconda3\\lib\\site-packages\\ipykernel_launcher.py:2: RuntimeWarning: invalid value encountered in log\n",
      "  \n"
     ]
    }
   ],
   "source": [
    "temp = df.drop(['ID_code', 'target'], axis=1)\n",
    "temp_log = pd.DataFrame(np.log(temp), columns=features_list)"
   ]
  },
  {
   "cell_type": "code",
   "execution_count": 86,
   "metadata": {},
   "outputs": [
    {
     "data": {
      "text/html": [
       "<div>\n",
       "<style scoped>\n",
       "    .dataframe tbody tr th:only-of-type {\n",
       "        vertical-align: middle;\n",
       "    }\n",
       "\n",
       "    .dataframe tbody tr th {\n",
       "        vertical-align: top;\n",
       "    }\n",
       "\n",
       "    .dataframe thead th {\n",
       "        text-align: right;\n",
       "    }\n",
       "</style>\n",
       "<table border=\"1\" class=\"dataframe\">\n",
       "  <thead>\n",
       "    <tr style=\"text-align: right;\">\n",
       "      <th></th>\n",
       "      <th>var_0</th>\n",
       "      <th>var_1</th>\n",
       "      <th>var_2</th>\n",
       "      <th>var_3</th>\n",
       "      <th>var_4</th>\n",
       "      <th>var_5</th>\n",
       "      <th>var_6</th>\n",
       "      <th>var_7</th>\n",
       "      <th>var_8</th>\n",
       "      <th>var_9</th>\n",
       "      <th>...</th>\n",
       "      <th>var_190</th>\n",
       "      <th>var_191</th>\n",
       "      <th>var_192</th>\n",
       "      <th>var_193</th>\n",
       "      <th>var_194</th>\n",
       "      <th>var_195</th>\n",
       "      <th>var_196</th>\n",
       "      <th>var_197</th>\n",
       "      <th>var_198</th>\n",
       "      <th>var_199</th>\n",
       "    </tr>\n",
       "  </thead>\n",
       "  <tbody>\n",
       "    <tr>\n",
       "      <th>count</th>\n",
       "      <td>200000.000000</td>\n",
       "      <td>7.248100e+04</td>\n",
       "      <td>200000.000000</td>\n",
       "      <td>199999.000000</td>\n",
       "      <td>200000.000000</td>\n",
       "      <td>5.823100e+04</td>\n",
       "      <td>200000.000000</td>\n",
       "      <td>200000.000000</td>\n",
       "      <td>1.074250e+05</td>\n",
       "      <td>200000.000000</td>\n",
       "      <td>...</td>\n",
       "      <td>1.491780e+05</td>\n",
       "      <td>199741.000000</td>\n",
       "      <td>1.801040e+05</td>\n",
       "      <td>158535.000000</td>\n",
       "      <td>200000.000000</td>\n",
       "      <td>9.117200e+04</td>\n",
       "      <td>1.283510e+05</td>\n",
       "      <td>200000.000000</td>\n",
       "      <td>200000.000000</td>\n",
       "      <td>8.212900e+04</td>\n",
       "    </tr>\n",
       "    <tr>\n",
       "      <th>mean</th>\n",
       "      <td>2.324693</td>\n",
       "      <td>-inf</td>\n",
       "      <td>2.340091</td>\n",
       "      <td>1.864811</td>\n",
       "      <td>2.393902</td>\n",
       "      <td>-inf</td>\n",
       "      <td>1.674986</td>\n",
       "      <td>2.783924</td>\n",
       "      <td>-inf</td>\n",
       "      <td>2.009804</td>\n",
       "      <td>...</td>\n",
       "      <td>-inf</td>\n",
       "      <td>1.906492</td>\n",
       "      <td>-inf</td>\n",
       "      <td>1.265692</td>\n",
       "      <td>2.874267</td>\n",
       "      <td>-inf</td>\n",
       "      <td>-inf</td>\n",
       "      <td>2.181528</td>\n",
       "      <td>2.745043</td>\n",
       "      <td>-inf</td>\n",
       "    </tr>\n",
       "    <tr>\n",
       "      <th>std</th>\n",
       "      <td>0.304704</td>\n",
       "      <td>NaN</td>\n",
       "      <td>0.255375</td>\n",
       "      <td>0.336458</td>\n",
       "      <td>0.150443</td>\n",
       "      <td>NaN</td>\n",
       "      <td>0.162816</td>\n",
       "      <td>0.213609</td>\n",
       "      <td>NaN</td>\n",
       "      <td>0.169996</td>\n",
       "      <td>...</td>\n",
       "      <td>NaN</td>\n",
       "      <td>0.496247</td>\n",
       "      <td>NaN</td>\n",
       "      <td>0.963259</td>\n",
       "      <td>0.179656</td>\n",
       "      <td>NaN</td>\n",
       "      <td>NaN</td>\n",
       "      <td>0.104829</td>\n",
       "      <td>0.201914</td>\n",
       "      <td>NaN</td>\n",
       "    </tr>\n",
       "    <tr>\n",
       "      <th>min</th>\n",
       "      <td>-0.895508</td>\n",
       "      <td>-inf</td>\n",
       "      <td>0.750047</td>\n",
       "      <td>-4.122744</td>\n",
       "      <td>1.624287</td>\n",
       "      <td>-inf</td>\n",
       "      <td>0.853266</td>\n",
       "      <td>1.677040</td>\n",
       "      <td>-inf</td>\n",
       "      <td>1.378892</td>\n",
       "      <td>...</td>\n",
       "      <td>-inf</td>\n",
       "      <td>-5.115996</td>\n",
       "      <td>-inf</td>\n",
       "      <td>-9.210340</td>\n",
       "      <td>2.162679</td>\n",
       "      <td>-inf</td>\n",
       "      <td>-inf</td>\n",
       "      <td>1.785171</td>\n",
       "      <td>1.840439</td>\n",
       "      <td>-inf</td>\n",
       "    </tr>\n",
       "    <tr>\n",
       "      <th>25%</th>\n",
       "      <td>2.134622</td>\n",
       "      <td>8.286948e-02</td>\n",
       "      <td>2.165903</td>\n",
       "      <td>1.659009</td>\n",
       "      <td>2.290834</td>\n",
       "      <td>4.960977e-01</td>\n",
       "      <td>1.561864</td>\n",
       "      <td>2.635035</td>\n",
       "      <td>3.491769e-01</td>\n",
       "      <td>1.889914</td>\n",
       "      <td>...</td>\n",
       "      <td>9.063616e-01</td>\n",
       "      <td>1.642118</td>\n",
       "      <td>1.973744e-01</td>\n",
       "      <td>0.873341</td>\n",
       "      <td>2.749179</td>\n",
       "      <td>-7.987299e-01</td>\n",
       "      <td>1.004540e+00</td>\n",
       "      <td>2.110553</td>\n",
       "      <td>2.626818</td>\n",
       "      <td>1.122524e+00</td>\n",
       "    </tr>\n",
       "    <tr>\n",
       "      <th>50%</th>\n",
       "      <td>2.353730</td>\n",
       "      <td>8.240439e-01</td>\n",
       "      <td>2.358965</td>\n",
       "      <td>1.920592</td>\n",
       "      <td>2.407688</td>\n",
       "      <td>1.243693e+00</td>\n",
       "      <td>1.683636</td>\n",
       "      <td>2.800739</td>\n",
       "      <td>1.012364e+00</td>\n",
       "      <td>2.032035</td>\n",
       "      <td>...</td>\n",
       "      <td>1.560815e+00</td>\n",
       "      <td>1.995136</td>\n",
       "      <td>7.386223e-01</td>\n",
       "      <td>1.507937</td>\n",
       "      <td>2.888033</td>\n",
       "      <td>-7.353890e-02</td>\n",
       "      <td>1.688896e+00</td>\n",
       "      <td>2.184725</td>\n",
       "      <td>2.768458</td>\n",
       "      <td>1.836207e+00</td>\n",
       "    </tr>\n",
       "    <tr>\n",
       "      <th>75%</th>\n",
       "      <td>2.546174</td>\n",
       "      <td>1.350849e+00</td>\n",
       "      <td>2.527064</td>\n",
       "      <td>2.119155</td>\n",
       "      <td>2.506434</td>\n",
       "      <td>1.791134e+00</td>\n",
       "      <td>1.792259</td>\n",
       "      <td>2.949840</td>\n",
       "      <td>1.432367e+00</td>\n",
       "      <td>2.149950</td>\n",
       "      <td>...</td>\n",
       "      <td>2.004432e+00</td>\n",
       "      <td>2.252880</td>\n",
       "      <td>1.123500e+00</td>\n",
       "      <td>1.929120</td>\n",
       "      <td>3.015365</td>\n",
       "      <td>4.749912e-01</td>\n",
       "      <td>2.089553e+00</td>\n",
       "      <td>2.261065</td>\n",
       "      <td>2.893961</td>\n",
       "      <td>2.315254e+00</td>\n",
       "    </tr>\n",
       "    <tr>\n",
       "      <th>max</th>\n",
       "      <td>3.011360</td>\n",
       "      <td>2.339573e+00</td>\n",
       "      <td>2.962847</td>\n",
       "      <td>2.579330</td>\n",
       "      <td>2.813695</td>\n",
       "      <td>2.847905e+00</td>\n",
       "      <td>2.133894</td>\n",
       "      <td>3.321136</td>\n",
       "      <td>2.317602e+00</td>\n",
       "      <td>2.411493</td>\n",
       "      <td>...</td>\n",
       "      <td>2.914571e+00</td>\n",
       "      <td>2.816396</td>\n",
       "      <td>2.128517e+00</td>\n",
       "      <td>2.905906</td>\n",
       "      <td>3.329658</td>\n",
       "      <td>1.452293e+00</td>\n",
       "      <td>2.908075e+00</td>\n",
       "      <td>2.484940</td>\n",
       "      <td>3.261134</td>\n",
       "      <td>3.349929e+00</td>\n",
       "    </tr>\n",
       "  </tbody>\n",
       "</table>\n",
       "<p>8 rows × 200 columns</p>\n",
       "</div>"
      ],
      "text/plain": [
       "               var_0         var_1          var_2          var_3  \\\n",
       "count  200000.000000  7.248100e+04  200000.000000  199999.000000   \n",
       "mean        2.324693          -inf       2.340091       1.864811   \n",
       "std         0.304704           NaN       0.255375       0.336458   \n",
       "min        -0.895508          -inf       0.750047      -4.122744   \n",
       "25%         2.134622  8.286948e-02       2.165903       1.659009   \n",
       "50%         2.353730  8.240439e-01       2.358965       1.920592   \n",
       "75%         2.546174  1.350849e+00       2.527064       2.119155   \n",
       "max         3.011360  2.339573e+00       2.962847       2.579330   \n",
       "\n",
       "               var_4         var_5          var_6          var_7  \\\n",
       "count  200000.000000  5.823100e+04  200000.000000  200000.000000   \n",
       "mean        2.393902          -inf       1.674986       2.783924   \n",
       "std         0.150443           NaN       0.162816       0.213609   \n",
       "min         1.624287          -inf       0.853266       1.677040   \n",
       "25%         2.290834  4.960977e-01       1.561864       2.635035   \n",
       "50%         2.407688  1.243693e+00       1.683636       2.800739   \n",
       "75%         2.506434  1.791134e+00       1.792259       2.949840   \n",
       "max         2.813695  2.847905e+00       2.133894       3.321136   \n",
       "\n",
       "              var_8          var_9      ...            var_190        var_191  \\\n",
       "count  1.074250e+05  200000.000000      ...       1.491780e+05  199741.000000   \n",
       "mean           -inf       2.009804      ...               -inf       1.906492   \n",
       "std             NaN       0.169996      ...                NaN       0.496247   \n",
       "min            -inf       1.378892      ...               -inf      -5.115996   \n",
       "25%    3.491769e-01       1.889914      ...       9.063616e-01       1.642118   \n",
       "50%    1.012364e+00       2.032035      ...       1.560815e+00       1.995136   \n",
       "75%    1.432367e+00       2.149950      ...       2.004432e+00       2.252880   \n",
       "max    2.317602e+00       2.411493      ...       2.914571e+00       2.816396   \n",
       "\n",
       "            var_192        var_193        var_194       var_195       var_196  \\\n",
       "count  1.801040e+05  158535.000000  200000.000000  9.117200e+04  1.283510e+05   \n",
       "mean           -inf       1.265692       2.874267          -inf          -inf   \n",
       "std             NaN       0.963259       0.179656           NaN           NaN   \n",
       "min            -inf      -9.210340       2.162679          -inf          -inf   \n",
       "25%    1.973744e-01       0.873341       2.749179 -7.987299e-01  1.004540e+00   \n",
       "50%    7.386223e-01       1.507937       2.888033 -7.353890e-02  1.688896e+00   \n",
       "75%    1.123500e+00       1.929120       3.015365  4.749912e-01  2.089553e+00   \n",
       "max    2.128517e+00       2.905906       3.329658  1.452293e+00  2.908075e+00   \n",
       "\n",
       "             var_197        var_198       var_199  \n",
       "count  200000.000000  200000.000000  8.212900e+04  \n",
       "mean        2.181528       2.745043          -inf  \n",
       "std         0.104829       0.201914           NaN  \n",
       "min         1.785171       1.840439          -inf  \n",
       "25%         2.110553       2.626818  1.122524e+00  \n",
       "50%         2.184725       2.768458  1.836207e+00  \n",
       "75%         2.261065       2.893961  2.315254e+00  \n",
       "max         2.484940       3.261134  3.349929e+00  \n",
       "\n",
       "[8 rows x 200 columns]"
      ]
     },
     "execution_count": 86,
     "metadata": {},
     "output_type": "execute_result"
    }
   ],
   "source": [
    "temp_log.describe()"
   ]
  },
  {
   "cell_type": "code",
   "execution_count": 87,
   "metadata": {},
   "outputs": [
    {
     "data": {
      "text/plain": [
       "(200000, 200)"
      ]
     },
     "execution_count": 87,
     "metadata": {},
     "output_type": "execute_result"
    }
   ],
   "source": [
    "temp_log.shape"
   ]
  },
  {
   "cell_type": "markdown",
   "metadata": {},
   "source": [
    "After the logaritmic transofmration is done, use only features that do not return any `nan`"
   ]
  },
  {
   "cell_type": "code",
   "execution_count": 96,
   "metadata": {},
   "outputs": [
    {
     "name": "stdout",
     "output_type": "stream",
     "text": [
      "Wall time: 586 ms\n"
     ]
    }
   ],
   "source": [
    "%%time\n",
    "temp_log_is_null = temp_log.isnull().values.sum(axis=0)\n",
    "temp_log_features = [features_list[i] for i, x in enumerate(temp_log_is_null) if x == 0]\n",
    "log_features = temp_log[temp_log_features].to_records(index=False)\n",
    "\n",
    "data['log_features'] = log_features"
   ]
  },
  {
   "cell_type": "markdown",
   "metadata": {},
   "source": [
    "## Show keys"
   ]
  },
  {
   "cell_type": "code",
   "execution_count": 97,
   "metadata": {},
   "outputs": [
    {
     "data": {
      "text/plain": [
       "dict_keys(['density_top_100', 'log_features', 'vanilla', 'target', 'density_tail_100'])"
      ]
     },
     "execution_count": 97,
     "metadata": {},
     "output_type": "execute_result"
    }
   ],
   "source": [
    "data.keys()"
   ]
  },
  {
   "cell_type": "markdown",
   "metadata": {},
   "source": [
    "## Save dictionary"
   ]
  },
  {
   "cell_type": "code",
   "execution_count": 98,
   "metadata": {},
   "outputs": [
    {
     "name": "stdout",
     "output_type": "stream",
     "text": [
      "Wall time: 7.77 s\n"
     ]
    }
   ],
   "source": [
    "%%time\n",
    "np.save('data/dictionary.npy', data)"
   ]
  },
  {
   "cell_type": "markdown",
   "metadata": {},
   "source": [
    "## Load dictionary\n",
    "Sanity check"
   ]
  },
  {
   "cell_type": "code",
   "execution_count": 99,
   "metadata": {},
   "outputs": [
    {
     "name": "stdout",
     "output_type": "stream",
     "text": [
      "Wall time: 3.81 s\n"
     ]
    }
   ],
   "source": [
    "%%time\n",
    "data2 = np.load('data/dictionary.npy')"
   ]
  },
  {
   "cell_type": "code",
   "execution_count": 100,
   "metadata": {},
   "outputs": [
    {
     "data": {
      "text/plain": [
       "dict_keys(['density_top_100', 'log_features', 'target', 'vanilla', 'density_tail_100'])"
      ]
     },
     "execution_count": 100,
     "metadata": {},
     "output_type": "execute_result"
    }
   ],
   "source": [
    "data2.item().keys()"
   ]
  },
  {
   "cell_type": "code",
   "execution_count": 101,
   "metadata": {},
   "outputs": [
    {
     "data": {
      "text/plain": [
       "rec.array([(2.18891235, 2.47721884, 2.43892379, 1.6329005 , 2.92459067, 1.74867798, 2.64003542, 2.17462671, 2.67890285, 1.74897374, 0.90486571, 2.59767714, 1.59546068, 2.55754509, 2.82678686, 2.41519924, 2.44899446, 2.48861643, 1.77877554, 2.55873006, 1.64356877, 2.42186035, 1.68309721, 2.31417764, 2.16042227, 1.75882297, 1.61161554, 3.15318037, 2.5012966 , 2.62736062, 3.06651221, 2.07924152, 1.91406559, 2.30171471, 2.69746774, 2.58853066, 0.36485143, 2.68852753, 1.79929765, 2.25576599, 2.64691211, 3.19305327, 1.91105248, 2.27488496, 2.4852316 , 2.62879774, 2.73736302, 2.55168485, 2.26704081, 1.88211802, 2.42181597, 2.16319658, 2.44806111, 1.39346856, 2.91872703, 2.81519313, 2.49937646, 1.67021311, 1.28534079, 2.53879491, 0.99339991, 1.70254567, 2.0466988 , 2.61915341, 2.19904514, 2.86643761, 2.91899701, 2.14750899, 2.54790492),\n",
       "           (2.44239921, 2.62892041, 2.51464343, 1.726474  , 2.80540677, 2.09002286, 2.64076302, 1.69276752, 2.61741773, 2.62665936, 1.21538741, 2.63124115, 1.61867512, 2.06375667, 2.9637771 , 2.4309959 , 2.29025944, 2.46675965, 1.99766191, 2.47100209, 1.90038963, 2.96123917, 1.94759444, 2.18247184, 2.09238245, 1.68652857, 1.61382826, 3.15624269, 2.62331986, 2.90022307, 2.62370436, 2.0671412 , 1.92937418, 2.39453509, 2.4644403 , 2.1290409 , 0.53608393, 2.72041346, 0.96420432, 1.99350232, 2.63583787, 2.57152767, 1.96081284, 2.25148125, 2.53323639, 2.67894403, 2.80545516, 2.51934833, 1.75062493, 1.953212  , 2.50802078, 2.1527617 , 2.18864342, 1.44875259, 3.02671724, 2.81685677, 2.50486449, 1.76956498, 1.34045982, 2.71697691, 1.16324456, 1.75784068, 2.35107045, 2.80772056, 2.25000676, 2.58907896, 2.73634607, 2.17348956, 2.9099565 ),\n",
       "           (2.15284301, 2.49159258, 2.35920169, 1.93769075, 2.68208261, 1.7838113 , 2.65274184, 2.01815107, 2.68424919, 2.03838514, 1.25666961, 2.58155684, 1.76580898, 2.524592  , 2.94665757, 2.40196878, 2.44480488, 2.48828427, 2.41058712, 2.55833522, 1.85721944, 2.74965269, 1.76130026, 2.21761527, 1.31272855, 1.99696984, 1.61398755, 3.14578026, 2.54980448, 2.75881302, 2.94849915, 2.47697528, 1.95844554, 2.35213687, 2.65760567, 2.53620953, 0.32598891, 2.70994174, 1.38616935, 1.68051128, 2.65298137, 3.0149563 , 1.74104495, 2.19246884, 2.52294878, 2.65308702, 2.83961633, 2.44598389, 2.17686313, 1.89056354, 2.01282085, 2.20941662, 2.44177296, 1.40398692, 2.66256457, 2.6495662 , 2.67664209, 1.76544972, 1.54939062, 3.02087357, 1.1875385 , 1.75249876, 2.39061429, 2.17971665, 2.23973049, 2.32174045, 3.07288774, 2.11233217, 2.68935656),\n",
       "           ...,\n",
       "           (2.41798306, 2.35258405, 2.23441331, 1.51633529, 3.07070523, 1.81854745, 2.63026882, 2.38916638, 2.67825744, 2.26398978, 0.7653283 , 2.60739711, 1.8373859 , 2.40155221, 2.62852347, 2.46371706, 2.42095462, 2.43383263, 2.00654822, 2.4396303 , 1.80452761, 2.72893721, 1.7016524 , 2.25618507, 1.75959778, 1.75409222, 1.61093679, 2.49509623, 2.47786525, 2.82967179, 2.90194344, 2.01143033, 1.95011558, 2.35749932, 2.54419705, 2.30862681, 0.58884166, 2.35111808, 1.4394322 , 2.21000917, 2.6450181 , 2.72459917, 2.17362609, 2.49476622, 2.58331808, 2.56331726, 2.81147284, 2.51630034, 2.08676466, 1.96123498, 2.43057365, 2.21715792, 2.50498702, 1.42491393, 3.02678026, 2.59972975, 2.46168067, 1.67573114, 1.70066705, 3.45740757, 1.15351074, 1.72777191, 2.53170276, 2.17542195, 2.17463808, 2.56283944, 3.15832295, 2.16510305, 2.62704981),\n",
       "           (2.2736505 , 2.61083421, 2.52711169, 1.7997111 , 2.83410706, 2.16953359, 2.65401631, 2.03047449, 2.63024   , 2.20253269, 1.31078926, 2.63092435, 1.70141527, 2.34134416, 2.88216596, 2.42862726, 2.37737712, 2.45873378, 2.54851505, 2.59762503, 1.83104428, 2.37899969, 1.78681393, 2.29527846, 1.56984433, 1.64083968, 1.61175523, 3.32271318, 2.81830273, 3.06521636, 3.18685664, 2.57473212, 1.94792241, 2.3053014 , 2.30971958, 3.20528793, 0.45615822, 2.66696428, 1.5728984 , 2.50433339, 2.65763372, 3.26731164, 1.86470009, 2.30360457, 2.50431704, 2.60610607, 2.84238877, 2.45850278, 2.12239327, 1.88455133, 2.71778929, 2.30188485, 2.39365904, 1.29371295, 2.93693723, 2.81674914, 2.55832748, 1.71121803, 1.52933354, 3.2526123 , 0.80406224, 1.68395152, 2.45634427, 2.10178995, 2.1680246 , 2.53636785, 3.01630911, 2.30599926, 2.7427028 ),\n",
       "           (2.38657692, 2.49471671, 2.44735188, 1.66466446, 2.72167693, 2.23738502, 2.65665866, 1.65465981, 2.66425156, 2.52990392, 1.04010002, 2.61861407, 1.83872257, 2.38122066, 2.52775858, 2.45362236, 2.43579518, 2.47740357, 2.3534588 , 2.51416605, 1.834292  , 3.02741503, 1.88161541, 2.30995785, 1.72711428, 1.69891292, 1.6136092 , 3.13809084, 2.75188206, 2.69187339, 3.07149816, 1.96309029, 1.96751787, 2.44279042, 2.80920388, 2.6024378 , 0.4393511 , 2.50059954, 1.25891543, 1.93028877, 2.64801707, 2.77219489, 2.10369503, 2.50502785, 2.54260149, 2.62850182, 2.31810405, 2.46755701, 2.10120303, 2.03033008, 2.16309311, 2.08076566, 2.5135265 , 1.35611862, 2.45626709, 2.83538158, 2.6347911 , 1.67122891, 1.84034326, 2.95564438, 1.19094835, 1.75223871, 2.4653245 , 2.76768924, 2.35327821, 2.79454589, 2.72195968, 2.10238873, 2.49554981)],\n",
       "          dtype=[('var_0', '<f8'), ('var_2', '<f8'), ('var_4', '<f8'), ('var_6', '<f8'), ('var_7', '<f8'), ('var_9', '<f8'), ('var_12', '<f8'), ('var_14', '<f8'), ('var_15', '<f8'), ('var_16', '<f8'), ('var_23', '<f8'), ('var_25', '<f8'), ('var_28', '<f8'), ('var_31', '<f8'), ('var_33', '<f8'), ('var_34', '<f8'), ('var_42', '<f8'), ('var_43', '<f8'), ('var_46', '<f8'), ('var_50', '<f8'), ('var_53', '<f8'), ('var_56', '<f8'), ('var_57', '<f8'), ('var_59', '<f8'), ('var_64', '<f8'), ('var_66', '<f8'), ('var_68', '<f8'), ('var_77', '<f8'), ('var_79', '<f8'), ('var_81', '<f8'), ('var_85', '<f8'), ('var_88', '<f8'), ('var_91', '<f8'), ('var_93', '<f8'), ('var_94', '<f8'), ('var_101', '<f8'), ('var_103', '<f8'), ('var_104', '<f8'), ('var_105', '<f8'), ('var_106', '<f8'), ('var_108', '<f8'), ('var_109', '<f8'), ('var_111', '<f8'), ('var_121', '<f8'), ('var_125', '<f8'), ('var_126', '<f8'), ('var_129', '<f8'), ('var_130', '<f8'), ('var_132', '<f8'), ('var_133', '<f8'), ('var_143', '<f8'), ('var_144', '<f8'), ('var_146', '<f8'), ('var_148', '<f8'), ('var_150', '<f8'), ('var_153', '<f8'), ('var_156', '<f8'), ('var_161', '<f8'), ('var_162', '<f8'), ('var_165', '<f8'), ('var_166', '<f8'), ('var_169', '<f8'), ('var_175', '<f8'), ('var_177', '<f8'), ('var_181', '<f8'), ('var_188', '<f8'), ('var_194', '<f8'), ('var_197', '<f8'), ('var_198', '<f8')])"
      ]
     },
     "execution_count": 101,
     "metadata": {},
     "output_type": "execute_result"
    }
   ],
   "source": [
    "data2[()]['log_features']\n",
    "data2.item().get('log_features')"
   ]
  },
  {
   "cell_type": "code",
   "execution_count": null,
   "metadata": {},
   "outputs": [],
   "source": []
  }
 ],
 "metadata": {
  "kernelspec": {
   "display_name": "Python 3",
   "language": "python",
   "name": "python3"
  },
  "language_info": {
   "codemirror_mode": {
    "name": "ipython",
    "version": 3
   },
   "file_extension": ".py",
   "mimetype": "text/x-python",
   "name": "python",
   "nbconvert_exporter": "python",
   "pygments_lexer": "ipython3",
   "version": "3.5.5"
  }
 },
 "nbformat": 4,
 "nbformat_minor": 2
}
