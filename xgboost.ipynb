{
 "cells": [
  {
   "cell_type": "code",
   "execution_count": 1,
   "metadata": {},
   "outputs": [
    {
     "name": "stdout",
     "output_type": "stream",
     "text": [
      "Wall time: 12.9 s\n"
     ]
    }
   ],
   "source": [
    "%%time\n",
    "import warnings\n",
    "def ignore_warn(*args, **kwargs):\n",
    "    pass\n",
    "warnings.warn = ignore_warn\n",
    "\n",
    "from scipy.stats import norm, skew\n",
    "from scipy import stats\n",
    "import pandas as pd\n",
    "import numpy as np\n",
    "import matplotlib.pyplot as plt\n",
    "import seaborn as sns\n",
    "from sklearn.linear_model import ElasticNetCV\n",
    "\n",
    "pd.set_option('display.float_format', lambda x: '{:.3f}'.format(x))\n",
    "\n",
    "%matplotlib inline"
   ]
  },
  {
   "cell_type": "code",
   "execution_count": 2,
   "metadata": {},
   "outputs": [
    {
     "name": "stdout",
     "output_type": "stream",
     "text": [
      "dict_keys(['density_top_100', 'density_tail_100', 'target', 'log_features', 'vanilla'])\n",
      "Wall time: 4.73 s\n"
     ]
    }
   ],
   "source": [
    "%%time\n",
    "dic = np.load('data/dictionary.npy')\n",
    "print(dic.item().keys())"
   ]
  },
  {
   "cell_type": "code",
   "execution_count": 3,
   "metadata": {},
   "outputs": [
    {
     "name": "stdout",
     "output_type": "stream",
     "text": [
      "_vanilla_features (200000,)\n",
      "_density_top_100_feature_names (100,)\n",
      "_density_tail_100_feature_names (100,)\n",
      "_log_features (200000,)\n",
      "_target (200000,)\n",
      "Wall time: 498 µs\n"
     ]
    }
   ],
   "source": [
    "%%time\n",
    "\n",
    "_vanilla_features = dic.item().get('vanilla')\n",
    "_density_top_100_feature_names = dic.item().get('density_top_100')\n",
    "_density_tail_100_feature_names = dic.item().get('density_tail_100')\n",
    "_log_features = dic.item().get('log_features')\n",
    "_target = dic.item().get('target')\n",
    "\n",
    "print(\"_vanilla_features\", _vanilla_features.shape)\n",
    "print(\"_density_top_100_feature_names\", _density_top_100_feature_names.shape) # feature names only!\n",
    "print(\"_density_tail_100_feature_names\", _density_tail_100_feature_names.shape) # feature names only!\n",
    "print(\"_log_features\", _log_features.shape)\n",
    "print(\"_target\", _target.shape)"
   ]
  },
  {
   "cell_type": "code",
   "execution_count": 4,
   "metadata": {},
   "outputs": [],
   "source": [
    "density_top_100_feature_names = list(_density_top_100_feature_names['feature'])\n",
    "density_tail_100_feature_names = list(_density_tail_100_feature_names['feature'])"
   ]
  },
  {
   "cell_type": "markdown",
   "metadata": {},
   "source": [
    "### Column names"
   ]
  },
  {
   "cell_type": "code",
   "execution_count": 5,
   "metadata": {},
   "outputs": [],
   "source": [
    "vanilla_feature_names = list(_vanilla_features.dtype.names)\n",
    "log_features_names = list(_log_features.dtype.names)"
   ]
  },
  {
   "cell_type": "markdown",
   "metadata": {},
   "source": [
    "### Features - all features"
   ]
  },
  {
   "cell_type": "code",
   "execution_count": 6,
   "metadata": {},
   "outputs": [
    {
     "name": "stdout",
     "output_type": "stream",
     "text": [
      "(200000, 200)\n"
     ]
    }
   ],
   "source": [
    "vanilla_features = pd.DataFrame(_vanilla_features.astype(_vanilla_features.dtype).view('<f8').reshape(_vanilla_features.shape[0], -1), columns=vanilla_feature_names)\n",
    "print(vanilla_features.shape)"
   ]
  },
  {
   "cell_type": "markdown",
   "metadata": {},
   "source": [
    "### Features - log features"
   ]
  },
  {
   "cell_type": "code",
   "execution_count": 7,
   "metadata": {},
   "outputs": [
    {
     "name": "stdout",
     "output_type": "stream",
     "text": [
      "(200000, 69)\n"
     ]
    }
   ],
   "source": [
    "log_features = pd.DataFrame(_log_features.astype(_log_features.dtype).view('<f8').reshape(_log_features.shape[0], -1), columns=log_features_names)\n",
    "print(log_features.shape)"
   ]
  },
  {
   "cell_type": "markdown",
   "metadata": {},
   "source": [
    "### Target"
   ]
  },
  {
   "cell_type": "code",
   "execution_count": 8,
   "metadata": {},
   "outputs": [
    {
     "name": "stdout",
     "output_type": "stream",
     "text": [
      "(200000, 1)\n"
     ]
    }
   ],
   "source": [
    "target = _target.astype('int64').reshape(_target.shape[0], -1)\n",
    "print(target.shape)"
   ]
  },
  {
   "cell_type": "markdown",
   "metadata": {},
   "source": [
    "### Split dataset"
   ]
  },
  {
   "cell_type": "code",
   "execution_count": 9,
   "metadata": {},
   "outputs": [],
   "source": [
    "from sklearn.model_selection import train_test_split"
   ]
  },
  {
   "cell_type": "code",
   "execution_count": 10,
   "metadata": {},
   "outputs": [],
   "source": [
    "def split_dataset(features, target):\n",
    "    x_train, x_test, y_train, y_test = train_test_split(features, target, test_size=0.2, random_state=15)\n",
    "    x_train, x_val, y_train, y_val = train_test_split(x_train, y_train, test_size=0.1, random_state=15)\n",
    "\n",
    "    x_train = np.float64(x_train)\n",
    "    x_val = np.float64(x_val)\n",
    "    x_test = np.float64(x_test)\n",
    "\n",
    "    print(\"Shape of x_train:\", x_train.shape)\n",
    "    print(\"Shape of x_test:\", x_test.shape)\n",
    "    print(\"Shape of x_val:\", x_val.shape)\n",
    "    print(\"Shape of y_train:\", y_train.shape)\n",
    "    print(\"Shape of y_test:\", y_test.shape)\n",
    "    print(\"Shape of y_val:\", y_val.shape)\n",
    "    \n",
    "    return x_train, x_test, x_val, y_train, y_test, y_val"
   ]
  },
  {
   "cell_type": "markdown",
   "metadata": {},
   "source": [
    "### Vanilla features"
   ]
  },
  {
   "cell_type": "code",
   "execution_count": 11,
   "metadata": {},
   "outputs": [
    {
     "name": "stdout",
     "output_type": "stream",
     "text": [
      "Shape of x_train: (144000, 200)\n",
      "Shape of x_test: (40000, 200)\n",
      "Shape of x_val: (16000, 200)\n",
      "Shape of y_train: (144000, 1)\n",
      "Shape of y_test: (40000, 1)\n",
      "Shape of y_val: (16000, 1)\n",
      "Wall time: 1.25 s\n"
     ]
    }
   ],
   "source": [
    "%%time\n",
    "x_train, x_test, x_val, y_train, y_test, y_val = split_dataset(features=vanilla_features, target=target)"
   ]
  },
  {
   "cell_type": "markdown",
   "metadata": {},
   "source": [
    "### Top 100 density features"
   ]
  },
  {
   "cell_type": "code",
   "execution_count": 12,
   "metadata": {},
   "outputs": [
    {
     "name": "stdout",
     "output_type": "stream",
     "text": [
      "Wall time: 0 ns\n"
     ]
    }
   ],
   "source": [
    "%%time\n",
    "#x_train, x_test, x_val, y_train, y_test, y_val = split_dataset(features=vanilla_features[density_top_100_feature_names], target=target)"
   ]
  },
  {
   "cell_type": "markdown",
   "metadata": {},
   "source": [
    "### Tail 100 density features"
   ]
  },
  {
   "cell_type": "code",
   "execution_count": 13,
   "metadata": {},
   "outputs": [
    {
     "name": "stdout",
     "output_type": "stream",
     "text": [
      "Wall time: 0 ns\n"
     ]
    }
   ],
   "source": [
    "%%time\n",
    "#x_train, x_test, x_val, y_train, y_test, y_val = split_dataset(features=vanilla_features[density_tail_100_feature_names], target=target)"
   ]
  },
  {
   "cell_type": "markdown",
   "metadata": {},
   "source": [
    "### Log transformation feature"
   ]
  },
  {
   "cell_type": "code",
   "execution_count": 14,
   "metadata": {},
   "outputs": [
    {
     "name": "stdout",
     "output_type": "stream",
     "text": [
      "Wall time: 0 ns\n"
     ]
    }
   ],
   "source": [
    "%%time\n",
    "#x_train, x_test, x_val, y_train, y_test, y_val = split_dataset(features=log_features, target=target)"
   ]
  },
  {
   "cell_type": "markdown",
   "metadata": {},
   "source": [
    "### ElasticNetCV"
   ]
  },
  {
   "cell_type": "code",
   "execution_count": 15,
   "metadata": {},
   "outputs": [
    {
     "name": "stdout",
     "output_type": "stream",
     "text": [
      "Optimal alpha: 0.00000013\n",
      "Optimal l1_ratio: 0.500\n",
      "Number of iterations 5\n",
      "Wall time: 1min 15s\n"
     ]
    }
   ],
   "source": [
    "%%time\n",
    "cv_model = ElasticNetCV(l1_ratio=[.1, .5, .7, .9, .95, .99, 1], eps=1e-3, n_alphas=100, fit_intercept=True, \n",
    "                        normalize=True, precompute='auto', max_iter=5, tol=0.0001, cv=6, \n",
    "                        copy_X=True, verbose=0, n_jobs=-1, positive=False, random_state=0)\n",
    "               \n",
    "cv_model.fit(x_train, y_train)\n",
    "print('Optimal alpha: %.8f'%cv_model.alpha_)\n",
    "print('Optimal l1_ratio: %.3f'%cv_model.l1_ratio_)\n",
    "print('Number of iterations %d'%cv_model.n_iter_)"
   ]
  },
  {
   "cell_type": "markdown",
   "metadata": {},
   "source": [
    "### Model Evaluation"
   ]
  },
  {
   "cell_type": "code",
   "execution_count": 16,
   "metadata": {},
   "outputs": [],
   "source": [
    "from sklearn.metrics import r2_score, mean_squared_error"
   ]
  },
  {
   "cell_type": "code",
   "execution_count": 17,
   "metadata": {},
   "outputs": [
    {
     "name": "stdout",
     "output_type": "stream",
     "text": [
      "Train r2 score:  -3.608980682833873\n",
      "Test r2 score:  0.18576501448223948\n",
      "Train RMSE: 0.2719\n",
      "Test RMSE: 0.2722\n",
      "Wall time: 799 ms\n"
     ]
    }
   ],
   "source": [
    "%%time\n",
    "y_train_pred = cv_model.predict(x_train)\n",
    "y_pred = cv_model.predict(x_test)\n",
    "print('Train r2 score: ', r2_score(y_train_pred, y_train))\n",
    "print('Test r2 score: ', r2_score(y_test, y_pred))\n",
    "train_mse = mean_squared_error(y_train_pred, y_train)\n",
    "test_mse = mean_squared_error(y_pred, y_test)\n",
    "train_rmse = np.sqrt(train_mse)\n",
    "test_rmse = np.sqrt(test_mse)\n",
    "print('Train RMSE: %.4f' % train_rmse)\n",
    "print('Test RMSE: %.4f' % test_rmse)"
   ]
  },
  {
   "cell_type": "markdown",
   "metadata": {},
   "source": [
    "Train r2 score:  -3.608980682833873\n",
    "Test r2 score:  0.18576501448223948\n",
    "Train RMSE: 0.2719\n",
    "Test RMSE: 0.2722\n",
    "Wall time: 522 ms"
   ]
  },
  {
   "cell_type": "code",
   "execution_count": 18,
   "metadata": {},
   "outputs": [
    {
     "data": {
      "text/plain": [
       "Index(['var_0', 'var_1', 'var_2', 'var_3', 'var_4', 'var_5', 'var_6', 'var_7',\n",
       "       'var_8', 'var_9',\n",
       "       ...\n",
       "       'var_190', 'var_191', 'var_192', 'var_193', 'var_194', 'var_195',\n",
       "       'var_196', 'var_197', 'var_198', 'var_199'],\n",
       "      dtype='object', length=200)"
      ]
     },
     "execution_count": 18,
     "metadata": {},
     "output_type": "execute_result"
    }
   ],
   "source": [
    "vanilla_features.columns"
   ]
  },
  {
   "cell_type": "markdown",
   "metadata": {},
   "source": [
    "### Feature importance"
   ]
  },
  {
   "cell_type": "code",
   "execution_count": 19,
   "metadata": {},
   "outputs": [
    {
     "name": "stdout",
     "output_type": "stream",
     "text": [
      "Index(['var_68', 'var_12', 'var_148', 'var_108', 'var_91'], dtype='object')\n"
     ]
    },
    {
     "data": {
      "image/png": "[encoded data removed]",
      "text/plain": [
       "<Figure size 864x360 with 1 Axes>"
      ]
     },
     "metadata": {},
     "output_type": "display_data"
    },
    {
     "name": "stdout",
     "output_type": "stream",
     "text": [
      "Wall time: 712 ms\n"
     ]
    }
   ],
   "source": [
    "%%time\n",
    "feature_importance = pd.DataFrame(index = vanilla_features.columns, data = np.abs(cv_model.coef_)).sort_values(by=0, ascending=False)\n",
    "five_important_features = feature_importance[feature_importance.values > 0.05].index\n",
    "\n",
    "print(five_important_features)\n",
    "\n",
    "feature_importance[:10].plot(kind = 'bar', figsize = (12,5), title=\"10 most important features\", legend=None)\n",
    "plt.show()"
   ]
  },
  {
   "cell_type": "markdown",
   "metadata": {},
   "source": [
    "## Xgboost with cross-validation"
   ]
  },
  {
   "cell_type": "code",
   "execution_count": 20,
   "metadata": {},
   "outputs": [],
   "source": [
    "from xgboost import XGBClassifier, XGBRegressor\n",
    "from sklearn.metrics import r2_score, mean_squared_error, roc_auc_score\n",
    "from sklearn import cross_validation\n",
    "\n",
    "import xgboost as xgb"
   ]
  },
  {
   "cell_type": "markdown",
   "metadata": {},
   "source": [
    "#### Prepare datasets"
   ]
  },
  {
   "cell_type": "markdown",
   "metadata": {},
   "source": [
    "Using top 50 high density features resulted in lower AUC score - 0.77\n",
    "Using top 100 high density features resulted in lower AUC score - 0.815"
   ]
  },
  {
   "cell_type": "markdown",
   "metadata": {},
   "source": [
    "Using top 100 low density features resulted in lower AUC score - 0.72"
   ]
  },
  {
   "cell_type": "code",
   "execution_count": 35,
   "metadata": {},
   "outputs": [
    {
     "name": "stdout",
     "output_type": "stream",
     "text": [
      "x_train (144000, 200)\n",
      "y_train (144000, 1)\n",
      "x_test (40000, 200)\n",
      "y_test (40000, 1)\n",
      "Wall time: 6.27 s\n"
     ]
    }
   ],
   "source": [
    "%%time\n",
    "x_train, x_test, y_train, y_test = train_test_split(vanilla_features, target, test_size=0.2, random_state=15)\n",
    "#x_train, x_test, y_train, y_test = train_test_split(log_features, target, test_size=0.2, random_state=15)\n",
    "#x_train, x_test, y_train, y_test = train_test_split(df[feature_low_density], target, test_size=0.2, random_state=15)\n",
    "#x_train, x_test, y_train, y_test = train_test_split(df[feature_names], target, test_size=0.2, random_state=15)\n",
    "x_train, x_val, y_train, y_val = train_test_split(x_train, y_train, test_size=0.1, random_state=15)\n",
    "\n",
    "x_train = np.float64(x_train)\n",
    "x_val = np.float64(x_val)\n",
    "x_test = np.float64(x_test)\n",
    "\n",
    "print('x_train', x_train.shape)\n",
    "print('y_train', y_train.shape)\n",
    "print('x_test', x_test.shape)\n",
    "print('y_test', y_test.shape)"
   ]
  },
  {
   "cell_type": "markdown",
   "metadata": {},
   "source": [
    "### Default model"
   ]
  },
  {
   "cell_type": "code",
   "execution_count": 36,
   "metadata": {},
   "outputs": [
    {
     "name": "stdout",
     "output_type": "stream",
     "text": [
      "Wall time: 1min 26s\n"
     ]
    }
   ],
   "source": [
    "%%time\n",
    "xgb_model1 = XGBClassifier(max_depth = 7,\n",
    "                n_estimators=50,\n",
    "                learning_rate=0.1, \n",
    "                nthread=4,\n",
    "                subsample=1.0,\n",
    "                colsample_bytree=0.5,\n",
    "                min_child_weight = 3,\n",
    "                seed=1301,\n",
    "                silent=0)\n",
    "xgb_model1.fit(x_train, y_train, verbose=True)\n",
    "\n",
    "# learning_rate = 0.05 - 0.075, 0.1, max_depth 5-10\n",
    "# use grid!\n",
    "# logistic regression"
   ]
  },
  {
   "cell_type": "code",
   "execution_count": 37,
   "metadata": {},
   "outputs": [
    {
     "data": {
      "text/plain": [
       "XGBClassifier(base_score=0.5, booster='gbtree', colsample_bylevel=1,\n",
       "       colsample_bytree=0.5, gamma=0, learning_rate=0.1, max_delta_step=0,\n",
       "       max_depth=7, min_child_weight=3, missing=None, n_estimators=50,\n",
       "       n_jobs=1, nthread=4, objective='binary:logistic', random_state=0,\n",
       "       reg_alpha=0, reg_lambda=1, scale_pos_weight=1, seed=1301, silent=0,\n",
       "       subsample=1.0)"
      ]
     },
     "execution_count": 37,
     "metadata": {},
     "output_type": "execute_result"
    }
   ],
   "source": [
    "xgb_model1"
   ]
  },
  {
   "cell_type": "code",
   "execution_count": 38,
   "metadata": {},
   "outputs": [
    {
     "name": "stdout",
     "output_type": "stream",
     "text": [
      "AUC Score : 0.8310632285174782\n",
      "Wall time: 409 ms\n"
     ]
    }
   ],
   "source": [
    "%%time\n",
    "y_pro1 = xgb_model1.predict_proba(x_test)[:, 1]\n",
    "print(\"AUC Score :\", roc_auc_score(y_test, y_pro1))"
   ]
  },
  {
   "cell_type": "code",
   "execution_count": 39,
   "metadata": {},
   "outputs": [],
   "source": [
    "# AUC Score : 0.8305487410546821 - n_estimators=50"
   ]
  },
  {
   "cell_type": "markdown",
   "metadata": {},
   "source": [
    "#### cross validation"
   ]
  },
  {
   "cell_type": "code",
   "execution_count": 26,
   "metadata": {},
   "outputs": [
    {
     "name": "stdout",
     "output_type": "stream",
     "text": [
      "[0]\ttrain-auc:0.623579+0.000566038\ttest-auc:0.613507+0.00126284\n",
      "[1]\ttrain-auc:0.679222+0.00985164\ttest-auc:0.661106+0.00933572\n",
      "[2]\ttrain-auc:0.705092+0.00476825\ttest-auc:0.681848+0.00792949\n",
      "[3]\ttrain-auc:0.719461+0.00499575\ttest-auc:0.693367+0.006589\n",
      "[4]\ttrain-auc:0.729089+0.00532274\ttest-auc:0.700509+0.00337313\n",
      "[5]\ttrain-auc:0.737158+0.00432681\ttest-auc:0.704879+0.00462451\n",
      "[6]\ttrain-auc:0.742504+0.00334134\ttest-auc:0.708399+0.00442376\n",
      "[7]\ttrain-auc:0.746172+0.00445579\ttest-auc:0.709795+0.00466132\n",
      "[8]\ttrain-auc:0.75027+0.00561661\ttest-auc:0.712654+0.00525394\n",
      "[9]\ttrain-auc:0.754691+0.00490892\ttest-auc:0.715615+0.00495047\n",
      "[10]\ttrain-auc:0.758177+0.00471668\ttest-auc:0.717584+0.00569034\n",
      "[11]\ttrain-auc:0.761361+0.00452969\ttest-auc:0.719544+0.00513962\n",
      "[12]\ttrain-auc:0.765227+0.00352935\ttest-auc:0.721923+0.00546159\n",
      "[13]\ttrain-auc:0.767825+0.00289048\ttest-auc:0.723603+0.00629918\n",
      "[14]\ttrain-auc:0.771111+0.00309023\ttest-auc:0.725293+0.00592906\n",
      "[15]\ttrain-auc:0.773993+0.00337755\ttest-auc:0.726117+0.0057884\n",
      "[16]\ttrain-auc:0.776583+0.00280644\ttest-auc:0.727573+0.00522309\n",
      "[17]\ttrain-auc:0.779546+0.00260316\ttest-auc:0.728933+0.00547566\n",
      "[18]\ttrain-auc:0.781833+0.00302855\ttest-auc:0.730039+0.00469811\n",
      "[19]\ttrain-auc:0.784735+0.00308734\ttest-auc:0.731891+0.00478983\n",
      "[20]\ttrain-auc:0.788867+0.00217934\ttest-auc:0.733701+0.00482728\n",
      "[21]\ttrain-auc:0.791821+0.00148562\ttest-auc:0.734896+0.00532435\n",
      "[22]\ttrain-auc:0.794165+0.00234981\ttest-auc:0.736073+0.00500933\n",
      "[23]\ttrain-auc:0.796402+0.0027778\ttest-auc:0.736862+0.00508308\n",
      "[24]\ttrain-auc:0.79885+0.00278458\ttest-auc:0.737896+0.00547422\n",
      "[25]\ttrain-auc:0.801942+0.00280238\ttest-auc:0.739102+0.00534093\n",
      "[26]\ttrain-auc:0.804287+0.0029501\ttest-auc:0.740159+0.00511959\n",
      "[27]\ttrain-auc:0.806543+0.00263761\ttest-auc:0.741119+0.00529592\n",
      "[28]\ttrain-auc:0.809271+0.00279663\ttest-auc:0.742216+0.00506358\n",
      "[29]\ttrain-auc:0.81193+0.00260418\ttest-auc:0.743184+0.00493227\n",
      "[30]\ttrain-auc:0.814688+0.00240743\ttest-auc:0.74491+0.00497834\n",
      "[31]\ttrain-auc:0.8175+0.00221314\ttest-auc:0.745961+0.00514525\n",
      "[32]\ttrain-auc:0.819831+0.00158085\ttest-auc:0.746899+0.0052397\n",
      "[33]\ttrain-auc:0.82209+0.00110415\ttest-auc:0.747558+0.00515197\n",
      "[34]\ttrain-auc:0.824706+0.00126039\ttest-auc:0.748338+0.00492354\n",
      "[35]\ttrain-auc:0.826348+0.00157647\ttest-auc:0.748823+0.00493507\n",
      "[36]\ttrain-auc:0.828982+0.00147898\ttest-auc:0.749738+0.00512467\n",
      "[37]\ttrain-auc:0.830852+0.00119848\ttest-auc:0.750223+0.00501038\n",
      "[38]\ttrain-auc:0.833201+0.00113688\ttest-auc:0.751201+0.00533723\n",
      "[39]\ttrain-auc:0.83531+0.000988815\ttest-auc:0.752349+0.00536717\n",
      "[40]\ttrain-auc:0.837168+0.000552021\ttest-auc:0.753087+0.00505549\n",
      "[41]\ttrain-auc:0.839254+0.000766535\ttest-auc:0.753865+0.00510418\n",
      "[42]\ttrain-auc:0.841153+0.000930429\ttest-auc:0.754663+0.00504973\n",
      "[43]\ttrain-auc:0.843179+0.000921307\ttest-auc:0.755315+0.00517949\n",
      "[44]\ttrain-auc:0.844863+0.00150857\ttest-auc:0.755981+0.00522841\n",
      "[45]\ttrain-auc:0.846734+0.00175808\ttest-auc:0.756652+0.00523885\n",
      "[46]\ttrain-auc:0.848272+0.00150973\ttest-auc:0.757354+0.00509854\n",
      "[47]\ttrain-auc:0.849961+0.0014849\ttest-auc:0.757868+0.0051923\n",
      "[48]\ttrain-auc:0.851658+0.00145784\ttest-auc:0.758474+0.00506159\n",
      "[49]\ttrain-auc:0.853522+0.00169686\ttest-auc:0.759204+0.00497056\n",
      "[50]\ttrain-auc:0.855084+0.00140754\ttest-auc:0.759755+0.00484165\n",
      "[51]\ttrain-auc:0.856698+0.00126717\ttest-auc:0.760225+0.00492624\n",
      "[52]\ttrain-auc:0.85814+0.00104207\ttest-auc:0.760633+0.00517835\n",
      "[53]\ttrain-auc:0.859605+0.00122102\ttest-auc:0.76108+0.00522019\n",
      "[54]\ttrain-auc:0.861098+0.00125521\ttest-auc:0.761608+0.00508859\n",
      "[55]\ttrain-auc:0.862692+0.00125504\ttest-auc:0.76209+0.00529559\n",
      "[56]\ttrain-auc:0.864147+0.00102121\ttest-auc:0.762461+0.00508816\n",
      "[57]\ttrain-auc:0.865459+0.00102044\ttest-auc:0.762853+0.00506278\n",
      "[58]\ttrain-auc:0.866746+0.00103602\ttest-auc:0.76324+0.00499239\n",
      "[59]\ttrain-auc:0.868025+0.00106755\ttest-auc:0.763706+0.00498419\n",
      "[60]\ttrain-auc:0.869233+0.00116516\ttest-auc:0.764073+0.00494094\n",
      "[61]\ttrain-auc:0.870493+0.0012785\ttest-auc:0.76447+0.00496167\n",
      "[62]\ttrain-auc:0.872026+0.0013129\ttest-auc:0.765072+0.00478217\n",
      "[63]\ttrain-auc:0.873225+0.00145299\ttest-auc:0.765267+0.00472804\n",
      "[64]\ttrain-auc:0.874542+0.00162655\ttest-auc:0.765518+0.00466018\n",
      "[65]\ttrain-auc:0.875906+0.0017365\ttest-auc:0.765951+0.00473901\n",
      "[66]\ttrain-auc:0.877011+0.00189706\ttest-auc:0.766535+0.004666\n",
      "[67]\ttrain-auc:0.878197+0.0018673\ttest-auc:0.76698+0.00481218\n",
      "[68]\ttrain-auc:0.879251+0.00171484\ttest-auc:0.767421+0.00480215\n",
      "[69]\ttrain-auc:0.880411+0.00154808\ttest-auc:0.767716+0.00462863\n",
      "[70]\ttrain-auc:0.881428+0.00150868\ttest-auc:0.767953+0.00460101\n",
      "[71]\ttrain-auc:0.882499+0.00151539\ttest-auc:0.768166+0.00450158\n",
      "[72]\ttrain-auc:0.883529+0.00154803\ttest-auc:0.768355+0.00445111\n",
      "[73]\ttrain-auc:0.88456+0.00146784\ttest-auc:0.768426+0.00447002\n",
      "[74]\ttrain-auc:0.885629+0.00128161\ttest-auc:0.768735+0.00438015\n",
      "[75]\ttrain-auc:0.886613+0.00130275\ttest-auc:0.768915+0.004416\n",
      "[76]\ttrain-auc:0.887661+0.00104529\ttest-auc:0.769081+0.00448057\n",
      "[77]\ttrain-auc:0.888595+0.000929053\ttest-auc:0.769182+0.00445855\n",
      "[78]\ttrain-auc:0.889561+0.000946474\ttest-auc:0.769175+0.00439191\n",
      "[79]\ttrain-auc:0.890687+0.00091402\ttest-auc:0.769332+0.00435054\n",
      "[80]\ttrain-auc:0.891538+0.000868097\ttest-auc:0.76948+0.00427571\n",
      "[81]\ttrain-auc:0.892508+0.000787492\ttest-auc:0.769757+0.0043183\n",
      "[82]\ttrain-auc:0.893526+0.00090406\ttest-auc:0.769858+0.00427823\n",
      "[83]\ttrain-auc:0.894112+0.00098169\ttest-auc:0.770057+0.00429745\n",
      "[84]\ttrain-auc:0.895086+0.000937869\ttest-auc:0.770307+0.00448587\n",
      "[85]\ttrain-auc:0.89594+0.000992992\ttest-auc:0.770523+0.00452535\n",
      "[86]\ttrain-auc:0.896831+0.001196\ttest-auc:0.770694+0.00451009\n",
      "[87]\ttrain-auc:0.897638+0.00129297\ttest-auc:0.770856+0.00447757\n",
      "[88]\ttrain-auc:0.898694+0.00136827\ttest-auc:0.770837+0.00462505\n",
      "[89]\ttrain-auc:0.899464+0.00143443\ttest-auc:0.770967+0.0046704\n",
      "[90]\ttrain-auc:0.900122+0.00137492\ttest-auc:0.771087+0.00460659\n",
      "[91]\ttrain-auc:0.900987+0.00138741\ttest-auc:0.771326+0.00455203\n",
      "[92]\ttrain-auc:0.901926+0.00130461\ttest-auc:0.771365+0.00452015\n",
      "[93]\ttrain-auc:0.902687+0.00133364\ttest-auc:0.771516+0.00435423\n",
      "[94]\ttrain-auc:0.903347+0.00124888\ttest-auc:0.771662+0.00426743\n",
      "[95]\ttrain-auc:0.903944+0.0011371\ttest-auc:0.77172+0.00419846\n",
      "[96]\ttrain-auc:0.904633+0.00116262\ttest-auc:0.771884+0.00422492\n",
      "[97]\ttrain-auc:0.905359+0.00116084\ttest-auc:0.772075+0.00414244\n",
      "[98]\ttrain-auc:0.905911+0.00118021\ttest-auc:0.772154+0.00417283\n",
      "[99]\ttrain-auc:0.906825+0.00116163\ttest-auc:0.772247+0.00414872\n",
      "[100]\ttrain-auc:0.907257+0.00120127\ttest-auc:0.772249+0.00420184\n",
      "[101]\ttrain-auc:0.908014+0.00119673\ttest-auc:0.77231+0.00431235\n",
      "[102]\ttrain-auc:0.908748+0.00116359\ttest-auc:0.772397+0.00436793\n",
      "[103]\ttrain-auc:0.909567+0.00108371\ttest-auc:0.772396+0.00438888\n",
      "[104]\ttrain-auc:0.910243+0.000982851\ttest-auc:0.77244+0.00431651\n",
      "[105]\ttrain-auc:0.910777+0.000825209\ttest-auc:0.772592+0.00434304\n",
      "[106]\ttrain-auc:0.91153+0.000801191\ttest-auc:0.772727+0.00443245\n",
      "[107]\ttrain-auc:0.912185+0.000677544\ttest-auc:0.772921+0.0044405\n",
      "[108]\ttrain-auc:0.912808+0.000700377\ttest-auc:0.772982+0.00442472\n",
      "[109]\ttrain-auc:0.913438+0.000527123\ttest-auc:0.77311+0.0045251\n",
      "[110]\ttrain-auc:0.913977+0.000481645\ttest-auc:0.773323+0.00442193\n",
      "[111]\ttrain-auc:0.914648+0.000490986\ttest-auc:0.773341+0.0044871\n",
      "[112]\ttrain-auc:0.915283+0.0006265\ttest-auc:0.773425+0.00454335\n",
      "[113]\ttrain-auc:0.915767+0.000641619\ttest-auc:0.773499+0.00445536\n",
      "[114]\ttrain-auc:0.916446+0.00076919\ttest-auc:0.773605+0.00449404\n",
      "[115]\ttrain-auc:0.917054+0.000859062\ttest-auc:0.77366+0.00451042\n",
      "[116]\ttrain-auc:0.917605+0.000838186\ttest-auc:0.773699+0.00449911\n",
      "[117]\ttrain-auc:0.918165+0.000843821\ttest-auc:0.77379+0.00452111\n",
      "[118]\ttrain-auc:0.918716+0.000850461\ttest-auc:0.773824+0.0045032\n",
      "[119]\ttrain-auc:0.919307+0.000757825\ttest-auc:0.77386+0.00453166\n",
      "[120]\ttrain-auc:0.919931+0.000766229\ttest-auc:0.774003+0.0045151\n",
      "[121]\ttrain-auc:0.92057+0.000749852\ttest-auc:0.773996+0.00454277\n",
      "[122]\ttrain-auc:0.921071+0.000687658\ttest-auc:0.774068+0.00452719\n",
      "[123]\ttrain-auc:0.921519+0.000780773\ttest-auc:0.774159+0.0045354\n",
      "[124]\ttrain-auc:0.921972+0.00077355\ttest-auc:0.774217+0.00449007\n",
      "[125]\ttrain-auc:0.922516+0.000805126\ttest-auc:0.774257+0.00451165\n",
      "[126]\ttrain-auc:0.923057+0.00087768\ttest-auc:0.774316+0.00451826\n",
      "[127]\ttrain-auc:0.923507+0.000799366\ttest-auc:0.774427+0.0045158\n",
      "[128]\ttrain-auc:0.924125+0.000783686\ttest-auc:0.774408+0.0045748\n"
     ]
    },
    {
     "name": "stdout",
     "output_type": "stream",
     "text": [
      "[129]\ttrain-auc:0.924653+0.000834787\ttest-auc:0.774384+0.00465854\n",
      "[130]\ttrain-auc:0.925098+0.000812119\ttest-auc:0.774527+0.00455217\n",
      "[131]\ttrain-auc:0.92551+0.00084832\ttest-auc:0.774557+0.00451367\n",
      "[132]\ttrain-auc:0.925979+0.000813946\ttest-auc:0.774568+0.00444679\n",
      "[133]\ttrain-auc:0.926361+0.000801811\ttest-auc:0.77463+0.00448245\n",
      "[134]\ttrain-auc:0.926778+0.000767005\ttest-auc:0.774632+0.00447718\n",
      "[135]\ttrain-auc:0.927241+0.000920655\ttest-auc:0.774595+0.00449313\n",
      "[136]\ttrain-auc:0.92762+0.000999741\ttest-auc:0.774597+0.00452209\n",
      "[137]\ttrain-auc:0.928122+0.00105796\ttest-auc:0.774694+0.0045243\n",
      "[138]\ttrain-auc:0.928537+0.00101119\ttest-auc:0.774781+0.0045724\n",
      "[139]\ttrain-auc:0.928916+0.000938408\ttest-auc:0.774765+0.00459031\n",
      "[140]\ttrain-auc:0.929415+0.000934706\ttest-auc:0.774737+0.0046279\n",
      "[141]\ttrain-auc:0.929813+0.000966676\ttest-auc:0.774773+0.00466416\n",
      "[142]\ttrain-auc:0.930318+0.000966299\ttest-auc:0.774791+0.00462915\n",
      "[143]\ttrain-auc:0.930637+0.000978163\ttest-auc:0.774808+0.00467181\n",
      "[144]\ttrain-auc:0.931059+0.000933938\ttest-auc:0.774846+0.00468939\n",
      "[145]\ttrain-auc:0.931352+0.0010406\ttest-auc:0.77485+0.00469299\n",
      "[146]\ttrain-auc:0.931673+0.000987839\ttest-auc:0.774842+0.0046905\n",
      "[147]\ttrain-auc:0.932083+0.00103395\ttest-auc:0.77482+0.00466117\n",
      "[148]\ttrain-auc:0.932482+0.00103748\ttest-auc:0.774846+0.00471967\n",
      "[149]\ttrain-auc:0.932868+0.00101534\ttest-auc:0.774813+0.00475965\n",
      "[150]\ttrain-auc:0.933211+0.00104335\ttest-auc:0.774904+0.00475262\n",
      "[151]\ttrain-auc:0.933504+0.00105204\ttest-auc:0.774915+0.0047739\n",
      "[152]\ttrain-auc:0.933936+0.00105636\ttest-auc:0.774909+0.0047193\n",
      "[153]\ttrain-auc:0.934307+0.00109729\ttest-auc:0.774897+0.00474743\n",
      "[154]\ttrain-auc:0.934673+0.00102275\ttest-auc:0.774824+0.00477514\n",
      "[155]\ttrain-auc:0.935038+0.00103817\ttest-auc:0.774829+0.00475678\n",
      "Wall time: 6min 5s\n"
     ]
    }
   ],
   "source": [
    "%%time\n",
    "xgtrain = xgb.DMatrix(x_train, label=y_train)\n",
    "xgb_model1_param = xgb_model1.get_params()\n",
    "cvresult = xgb.cv(params=xgb_model1_param, dtrain=xgtrain, num_boost_round=200, nfold=5, metrics=['auc'],\n",
    "                  early_stopping_rounds=5, stratified=True, seed=0, verbose_eval=True)"
   ]
  },
  {
   "cell_type": "code",
   "execution_count": 40,
   "metadata": {},
   "outputs": [],
   "source": [
    "#test-auc:0.871584+0.00182564 - num_boost_round=200, nfold=5"
   ]
  },
  {
   "cell_type": "code",
   "execution_count": 41,
   "metadata": {},
   "outputs": [
    {
     "data": {
      "text/plain": [
       "<matplotlib.axes._subplots.AxesSubplot at 0x20dbceac8d0>"
      ]
     },
     "execution_count": 41,
     "metadata": {},
     "output_type": "execute_result"
    },
    {
     "data": {
      "image/png": "[encoded data removed]",
      "text/plain": [
       "<Figure size 432x288 with 1 Axes>"
      ]
     },
     "metadata": {},
     "output_type": "display_data"
    }
   ],
   "source": [
    "cvresult[['train-auc-mean', 'test-auc-mean']].plot()"
   ]
  },
  {
   "cell_type": "markdown",
   "metadata": {},
   "source": [
    "### Tweaking hypeparameters"
   ]
  },
  {
   "cell_type": "code",
   "execution_count": 42,
   "metadata": {},
   "outputs": [
    {
     "data": {
      "text/plain": [
       "(16000, 200)"
      ]
     },
     "execution_count": 42,
     "metadata": {},
     "output_type": "execute_result"
    }
   ],
   "source": [
    "#x_train.shape #(160000, 69)\n",
    "x_val.shape"
   ]
  },
  {
   "cell_type": "code",
   "execution_count": 43,
   "metadata": {},
   "outputs": [
    {
     "name": "stdout",
     "output_type": "stream",
     "text": [
      "[0]\tvalidation_0-error:0.126937\n",
      "Will train until validation_0-error hasn't improved in 5 rounds.\n",
      "[1]\tvalidation_0-error:0.125938\n",
      "[2]\tvalidation_0-error:0.106188\n",
      "[3]\tvalidation_0-error:0.105812\n",
      "[4]\tvalidation_0-error:0.100875\n",
      "[5]\tvalidation_0-error:0.101187\n",
      "[6]\tvalidation_0-error:0.100188\n",
      "[7]\tvalidation_0-error:0.100375\n",
      "[8]\tvalidation_0-error:0.099188\n",
      "[9]\tvalidation_0-error:0.09875\n",
      "[10]\tvalidation_0-error:0.098937\n",
      "[11]\tvalidation_0-error:0.098625\n",
      "[12]\tvalidation_0-error:0.099188\n",
      "[13]\tvalidation_0-error:0.098687\n",
      "[14]\tvalidation_0-error:0.098563\n",
      "[15]\tvalidation_0-error:0.098312\n",
      "[16]\tvalidation_0-error:0.098438\n",
      "[17]\tvalidation_0-error:0.09825\n",
      "[18]\tvalidation_0-error:0.098563\n",
      "[19]\tvalidation_0-error:0.098375\n",
      "[20]\tvalidation_0-error:0.09825\n",
      "[21]\tvalidation_0-error:0.098375\n",
      "[22]\tvalidation_0-error:0.098438\n",
      "Stopping. Best iteration:\n",
      "[17]\tvalidation_0-error:0.09825\n",
      "\n",
      "Wall time: 11min 31s\n"
     ]
    }
   ],
   "source": [
    "%%time\n",
    "xgb_model2 = XGBClassifier(max_depth=20,\n",
    "                           min_child_weight=1,\n",
    "                           learning_rate=0.1,\n",
    "                           n_estimators=1000,\n",
    "                           silent=True,\n",
    "                           objective='binary:logistic',\n",
    "                           gamma=0,\n",
    "                           max_delta_step=0,\n",
    "                           subsample=1,\n",
    "                           colsample_bytree=1,\n",
    "                           colsample_bylevel=1,\n",
    "                           reg_alpha=0,\n",
    "                           reg_lambda=0,\n",
    "                           scale_pos_weight=1,\n",
    "                           seed=1,\n",
    "                           missing=None)\n",
    "\n",
    "xgb_model2.fit(x_train, y_train, eval_set=[(x_val, y_val)], early_stopping_rounds=5, verbose=True)"
   ]
  },
  {
   "cell_type": "code",
   "execution_count": 45,
   "metadata": {},
   "outputs": [
    {
     "name": "stdout",
     "output_type": "stream",
     "text": [
      "AUC Score : 0.7747907790239524\n",
      "Wall time: 658 ms\n"
     ]
    }
   ],
   "source": [
    "%%time\n",
    "\n",
    "#y_pre2 = xgb_model2.predict(x_test)\n",
    "y_pro2 = xgb_model2.predict_proba(x_test)[:, 1]\n",
    "print(\"AUC Score :\", roc_auc_score(y_test, y_pro2))\n",
    "#print(\"Accuracy :\", accuracy_score(y_test, y_pre2))"
   ]
  },
  {
   "cell_type": "markdown",
   "metadata": {},
   "source": [
    "Metric **accuracy** is not relevant in this case, AUC is."
   ]
  },
  {
   "cell_type": "markdown",
   "metadata": {},
   "source": [
    "## Running without most important feature"
   ]
  },
  {
   "cell_type": "code",
   "execution_count": 46,
   "metadata": {},
   "outputs": [],
   "source": [
    "#mif = 'var_68' # most important feature"
   ]
  },
  {
   "cell_type": "code",
   "execution_count": 47,
   "metadata": {},
   "outputs": [],
   "source": [
    "#feature_names_without_mif = [f for f in vanilla_features.columns if f != mif] #list comprehension"
   ]
  },
  {
   "cell_type": "code",
   "execution_count": 49,
   "metadata": {},
   "outputs": [
    {
     "name": "stdout",
     "output_type": "stream",
     "text": [
      "Wall time: 0 ns\n"
     ]
    }
   ],
   "source": [
    "%%time\n",
    "#x_train, x_test, y_train, y_test = train_test_split(df[feature_names_without_mif], target, test_size=0.2, random_state=15)\n",
    "#x_train, x_test, y_train, y_test = train_test_split(df[feature_names], target, test_size=0.2, random_state=15)\n",
    "#x_train, x_val, y_train, y_val = train_test_split(x_train, y_train, test_size=0.1, random_state=15)\n",
    "\n",
    "#x_train = np.float64(x_train)\n",
    "#x_val = np.float64(x_val)\n",
    "#x_test = np.float64(x_test)"
   ]
  },
  {
   "cell_type": "code",
   "execution_count": 50,
   "metadata": {},
   "outputs": [
    {
     "name": "stdout",
     "output_type": "stream",
     "text": [
      "Wall time: 5min 18s\n"
     ]
    }
   ],
   "source": [
    "%%time\n",
    "xgb_model_no_wif = XGBClassifier()\n",
    "\n",
    "xgb_model_no_wif.fit(x_train, y_train, verbose=True)"
   ]
  },
  {
   "cell_type": "code",
   "execution_count": 51,
   "metadata": {},
   "outputs": [
    {
     "name": "stdout",
     "output_type": "stream",
     "text": [
      "AUC Score : 0.8369446714533239\n",
      "Wall time: 693 ms\n"
     ]
    }
   ],
   "source": [
    "%%time\n",
    "y_pro1 = xgb_model_no_wif.predict_proba(x_test)[:, 1]\n",
    "print(\"AUC Score :\", roc_auc_score(y_test, y_pro1))"
   ]
  },
  {
   "cell_type": "markdown",
   "metadata": {},
   "source": [
    "## Regression"
   ]
  },
  {
   "cell_type": "code",
   "execution_count": 53,
   "metadata": {},
   "outputs": [
    {
     "name": "stdout",
     "output_type": "stream",
     "text": [
      "Wall time: 3min 36s\n"
     ]
    }
   ],
   "source": [
    "%%time\n",
    "xgb_model_reg = XGBRegressor(max_depth=20,\n",
    "                           min_child_weight=1,\n",
    "                           learning_rate=0.1,\n",
    "                           n_estimators=10, #1000,\n",
    "                           silent=True,\n",
    "                           #objective='binary:logistic',\n",
    "                           objective='reg:linear',\n",
    "                           gamma=0,\n",
    "                           max_delta_step=0,\n",
    "                           subsample=1,\n",
    "                           colsample_bytree=1,\n",
    "                           colsample_bylevel=1,\n",
    "                           reg_alpha=0,\n",
    "                           reg_lambda=0,\n",
    "                           scale_pos_weight=1,\n",
    "                           seed=1,\n",
    "                           missing=None)\n",
    "xgb_model_reg.fit(x_train, y_train, verbose=True)"
   ]
  },
  {
   "cell_type": "code",
   "execution_count": 54,
   "metadata": {},
   "outputs": [
    {
     "data": {
      "text/plain": [
       "XGBRegressor(base_score=0.5, booster='gbtree', colsample_bylevel=1,\n",
       "       colsample_bytree=1, gamma=0, importance_type='gain',\n",
       "       learning_rate=0.1, max_delta_step=0, max_depth=20,\n",
       "       min_child_weight=1, missing=None, n_estimators=10, n_jobs=1,\n",
       "       nthread=None, objective='reg:linear', random_state=0, reg_alpha=0,\n",
       "       reg_lambda=0, scale_pos_weight=1, seed=1, silent=True, subsample=1)"
      ]
     },
     "execution_count": 54,
     "metadata": {},
     "output_type": "execute_result"
    }
   ],
   "source": [
    "xgb_model_reg"
   ]
  },
  {
   "cell_type": "code",
   "execution_count": 55,
   "metadata": {},
   "outputs": [],
   "source": [
    "y_prob_reg = xgb_model_reg.predict(x_test)"
   ]
  },
  {
   "cell_type": "code",
   "execution_count": 56,
   "metadata": {},
   "outputs": [
    {
     "name": "stdout",
     "output_type": "stream",
     "text": [
      "AUC Score : 0.7324460736118261\n",
      "Wall time: 17.5 ms\n"
     ]
    }
   ],
   "source": [
    "%%time\n",
    "print(\"AUC Score :\", roc_auc_score(y_test, y_prob_reg))"
   ]
  },
  {
   "cell_type": "code",
   "execution_count": 58,
   "metadata": {},
   "outputs": [],
   "source": [
    "#xgb_model_reg_param = xgb_model_reg.get_params\n",
    "#cvresult = xgb_model_reg.cv(xgb_param, x_train, num_boost_round=5000, nfold=5, metrics=['auc'], \n",
    "#                  early_stopping_rounds=50, stratified=True, seed=1301)"
   ]
  },
  {
   "cell_type": "markdown",
   "metadata": {},
   "source": [
    "## Submission of results"
   ]
  },
  {
   "cell_type": "code",
   "execution_count": null,
   "metadata": {},
   "outputs": [],
   "source": [
    "import time\n",
    "\n",
    "def submit_results(model):\n",
    "    test = pd.read_csv(\"data/test.csv\")\n",
    "    print(test.shape)\n",
    "    \n",
    "    test_features = test.drop(['ID_code'], axis=1)\n",
    "    result_df = pd.DataFrame(test[\"ID_code\"])\n",
    "\n",
    "    print(\"test_features shape\", test_features.shape)\n",
    "    print(\"result_df shape\", result_df.shape)\n",
    "    \n",
    "    array = np.array(test_features)\n",
    "    \n",
    "    result_df['one'] = model.predict_proba(array)[:, 1]\n",
    "    \n",
    "    print(result_df[result_df['one'] > 0.5]['one'].value_counts().sum()/result_df.shape[0]*100, '\\b%')\n",
    "\n",
    "    t = time.localtime()\n",
    "    timestamp = time.strftime('%Y%m%d_%H%M', t)\n",
    "    save_filename = (\"score/xgboost_result-\" + timestamp + \".csv\")\n",
    "\n",
    "    result_df = result_df.rename(columns={'one': 'target'}) # rename to match submission criteria\n",
    "    result_df[['ID_code', 'target']].to_csv(save_filename, index=False)\n",
    "    \n",
    "    print(\"Submission file is ready:\", save_filename)"
   ]
  },
  {
   "cell_type": "code",
   "execution_count": null,
   "metadata": {},
   "outputs": [],
   "source": [
    "%%time\n",
    "submit_results(model=xgb_model1)"
   ]
  }
 ],
 "metadata": {
  "kernelspec": {
   "display_name": "Python 3",
   "language": "python",
   "name": "python3"
  },
  "language_info": {
   "codemirror_mode": {
    "name": "ipython",
    "version": 3
   },
   "file_extension": ".py",
   "mimetype": "text/x-python",
   "name": "python",
   "nbconvert_exporter": "python",
   "pygments_lexer": "ipython3",
   "version": "3.5.5"
  }
 },
 "nbformat": 4,
 "nbformat_minor": 2
}
