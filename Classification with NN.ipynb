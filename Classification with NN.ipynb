{
 "cells": [
  {
   "cell_type": "code",
   "execution_count": 5,
   "metadata": {},
   "outputs": [],
   "source": [
    "import pandas as pd\n",
    "import numpy as np\n",
    "import matplotlib.pyplot as plt"
   ]
  },
  {
   "cell_type": "code",
   "execution_count": 6,
   "metadata": {},
   "outputs": [
    {
     "name": "stdout",
     "output_type": "stream",
     "text": [
      "Wall time: 7.61 s\n"
     ]
    }
   ],
   "source": [
    "%%time\n",
    "df = pd.read_csv(\"data/train.csv\")"
   ]
  },
  {
   "cell_type": "markdown",
   "metadata": {},
   "source": [
    "Datatypes in the dataset"
   ]
  },
  {
   "cell_type": "code",
   "execution_count": 7,
   "metadata": {},
   "outputs": [
    {
     "data": {
      "text/plain": [
       "float64    200\n",
       "int64        1\n",
       "object       1\n",
       "dtype: int64"
      ]
     },
     "execution_count": 7,
     "metadata": {},
     "output_type": "execute_result"
    }
   ],
   "source": [
    "df.dtypes.value_counts()"
   ]
  },
  {
   "cell_type": "code",
   "execution_count": 8,
   "metadata": {},
   "outputs": [
    {
     "data": {
      "text/plain": [
       "(200000, 202)"
      ]
     },
     "execution_count": 8,
     "metadata": {},
     "output_type": "execute_result"
    }
   ],
   "source": [
    "df.shape"
   ]
  },
  {
   "cell_type": "code",
   "execution_count": 9,
   "metadata": {},
   "outputs": [
    {
     "data": {
      "text/html": [
       "<div>\n",
       "<style scoped>\n",
       "    .dataframe tbody tr th:only-of-type {\n",
       "        vertical-align: middle;\n",
       "    }\n",
       "\n",
       "    .dataframe tbody tr th {\n",
       "        vertical-align: top;\n",
       "    }\n",
       "\n",
       "    .dataframe thead th {\n",
       "        text-align: right;\n",
       "    }\n",
       "</style>\n",
       "<table border=\"1\" class=\"dataframe\">\n",
       "  <thead>\n",
       "    <tr style=\"text-align: right;\">\n",
       "      <th></th>\n",
       "      <th>target</th>\n",
       "      <th>var_0</th>\n",
       "      <th>var_1</th>\n",
       "      <th>var_2</th>\n",
       "      <th>var_3</th>\n",
       "      <th>var_4</th>\n",
       "      <th>var_5</th>\n",
       "      <th>var_6</th>\n",
       "      <th>var_7</th>\n",
       "      <th>var_8</th>\n",
       "      <th>...</th>\n",
       "      <th>var_190</th>\n",
       "      <th>var_191</th>\n",
       "      <th>var_192</th>\n",
       "      <th>var_193</th>\n",
       "      <th>var_194</th>\n",
       "      <th>var_195</th>\n",
       "      <th>var_196</th>\n",
       "      <th>var_197</th>\n",
       "      <th>var_198</th>\n",
       "      <th>var_199</th>\n",
       "    </tr>\n",
       "  </thead>\n",
       "  <tbody>\n",
       "    <tr>\n",
       "      <th>count</th>\n",
       "      <td>200000.000000</td>\n",
       "      <td>200000.000000</td>\n",
       "      <td>200000.000000</td>\n",
       "      <td>200000.000000</td>\n",
       "      <td>200000.000000</td>\n",
       "      <td>200000.000000</td>\n",
       "      <td>200000.000000</td>\n",
       "      <td>200000.000000</td>\n",
       "      <td>200000.000000</td>\n",
       "      <td>200000.000000</td>\n",
       "      <td>...</td>\n",
       "      <td>200000.000000</td>\n",
       "      <td>200000.000000</td>\n",
       "      <td>200000.000000</td>\n",
       "      <td>200000.000000</td>\n",
       "      <td>200000.000000</td>\n",
       "      <td>200000.000000</td>\n",
       "      <td>200000.000000</td>\n",
       "      <td>200000.000000</td>\n",
       "      <td>200000.000000</td>\n",
       "      <td>200000.000000</td>\n",
       "    </tr>\n",
       "    <tr>\n",
       "      <th>mean</th>\n",
       "      <td>0.100490</td>\n",
       "      <td>10.679914</td>\n",
       "      <td>-1.627622</td>\n",
       "      <td>10.715192</td>\n",
       "      <td>6.796529</td>\n",
       "      <td>11.078333</td>\n",
       "      <td>-5.065317</td>\n",
       "      <td>5.408949</td>\n",
       "      <td>16.545850</td>\n",
       "      <td>0.284162</td>\n",
       "      <td>...</td>\n",
       "      <td>3.234440</td>\n",
       "      <td>7.438408</td>\n",
       "      <td>1.927839</td>\n",
       "      <td>3.331774</td>\n",
       "      <td>17.993784</td>\n",
       "      <td>-0.142088</td>\n",
       "      <td>2.303335</td>\n",
       "      <td>8.908158</td>\n",
       "      <td>15.870720</td>\n",
       "      <td>-3.326537</td>\n",
       "    </tr>\n",
       "    <tr>\n",
       "      <th>std</th>\n",
       "      <td>0.300653</td>\n",
       "      <td>3.040051</td>\n",
       "      <td>4.050044</td>\n",
       "      <td>2.640894</td>\n",
       "      <td>2.043319</td>\n",
       "      <td>1.623150</td>\n",
       "      <td>7.863267</td>\n",
       "      <td>0.866607</td>\n",
       "      <td>3.418076</td>\n",
       "      <td>3.332634</td>\n",
       "      <td>...</td>\n",
       "      <td>4.559922</td>\n",
       "      <td>3.023272</td>\n",
       "      <td>1.478423</td>\n",
       "      <td>3.992030</td>\n",
       "      <td>3.135162</td>\n",
       "      <td>1.429372</td>\n",
       "      <td>5.454369</td>\n",
       "      <td>0.921625</td>\n",
       "      <td>3.010945</td>\n",
       "      <td>10.438015</td>\n",
       "    </tr>\n",
       "    <tr>\n",
       "      <th>min</th>\n",
       "      <td>0.000000</td>\n",
       "      <td>0.408400</td>\n",
       "      <td>-15.043400</td>\n",
       "      <td>2.117100</td>\n",
       "      <td>-0.040200</td>\n",
       "      <td>5.074800</td>\n",
       "      <td>-32.562600</td>\n",
       "      <td>2.347300</td>\n",
       "      <td>5.349700</td>\n",
       "      <td>-10.505500</td>\n",
       "      <td>...</td>\n",
       "      <td>-14.093300</td>\n",
       "      <td>-2.691700</td>\n",
       "      <td>-3.814500</td>\n",
       "      <td>-11.783400</td>\n",
       "      <td>8.694400</td>\n",
       "      <td>-5.261000</td>\n",
       "      <td>-14.209600</td>\n",
       "      <td>5.960600</td>\n",
       "      <td>6.299300</td>\n",
       "      <td>-38.852800</td>\n",
       "    </tr>\n",
       "    <tr>\n",
       "      <th>50%</th>\n",
       "      <td>0.000000</td>\n",
       "      <td>10.524750</td>\n",
       "      <td>-1.608050</td>\n",
       "      <td>10.580000</td>\n",
       "      <td>6.825000</td>\n",
       "      <td>11.108250</td>\n",
       "      <td>-4.833150</td>\n",
       "      <td>5.385100</td>\n",
       "      <td>16.456800</td>\n",
       "      <td>0.393700</td>\n",
       "      <td>...</td>\n",
       "      <td>3.203600</td>\n",
       "      <td>7.347750</td>\n",
       "      <td>1.901300</td>\n",
       "      <td>3.396350</td>\n",
       "      <td>17.957950</td>\n",
       "      <td>-0.172700</td>\n",
       "      <td>2.408900</td>\n",
       "      <td>8.888200</td>\n",
       "      <td>15.934050</td>\n",
       "      <td>-2.819550</td>\n",
       "    </tr>\n",
       "    <tr>\n",
       "      <th>max</th>\n",
       "      <td>1.000000</td>\n",
       "      <td>20.315000</td>\n",
       "      <td>10.376800</td>\n",
       "      <td>19.353000</td>\n",
       "      <td>13.188300</td>\n",
       "      <td>16.671400</td>\n",
       "      <td>17.251600</td>\n",
       "      <td>8.447700</td>\n",
       "      <td>27.691800</td>\n",
       "      <td>10.151300</td>\n",
       "      <td>...</td>\n",
       "      <td>18.440900</td>\n",
       "      <td>16.716500</td>\n",
       "      <td>8.402400</td>\n",
       "      <td>18.281800</td>\n",
       "      <td>27.928800</td>\n",
       "      <td>4.272900</td>\n",
       "      <td>18.321500</td>\n",
       "      <td>12.000400</td>\n",
       "      <td>26.079100</td>\n",
       "      <td>28.500700</td>\n",
       "    </tr>\n",
       "  </tbody>\n",
       "</table>\n",
       "<p>6 rows × 201 columns</p>\n",
       "</div>"
      ],
      "text/plain": [
       "              target          var_0          var_1          var_2  \\\n",
       "count  200000.000000  200000.000000  200000.000000  200000.000000   \n",
       "mean        0.100490      10.679914      -1.627622      10.715192   \n",
       "std         0.300653       3.040051       4.050044       2.640894   \n",
       "min         0.000000       0.408400     -15.043400       2.117100   \n",
       "50%         0.000000      10.524750      -1.608050      10.580000   \n",
       "max         1.000000      20.315000      10.376800      19.353000   \n",
       "\n",
       "               var_3          var_4          var_5          var_6  \\\n",
       "count  200000.000000  200000.000000  200000.000000  200000.000000   \n",
       "mean        6.796529      11.078333      -5.065317       5.408949   \n",
       "std         2.043319       1.623150       7.863267       0.866607   \n",
       "min        -0.040200       5.074800     -32.562600       2.347300   \n",
       "50%         6.825000      11.108250      -4.833150       5.385100   \n",
       "max        13.188300      16.671400      17.251600       8.447700   \n",
       "\n",
       "               var_7          var_8      ...              var_190  \\\n",
       "count  200000.000000  200000.000000      ...        200000.000000   \n",
       "mean       16.545850       0.284162      ...             3.234440   \n",
       "std         3.418076       3.332634      ...             4.559922   \n",
       "min         5.349700     -10.505500      ...           -14.093300   \n",
       "50%        16.456800       0.393700      ...             3.203600   \n",
       "max        27.691800      10.151300      ...            18.440900   \n",
       "\n",
       "             var_191        var_192        var_193        var_194  \\\n",
       "count  200000.000000  200000.000000  200000.000000  200000.000000   \n",
       "mean        7.438408       1.927839       3.331774      17.993784   \n",
       "std         3.023272       1.478423       3.992030       3.135162   \n",
       "min        -2.691700      -3.814500     -11.783400       8.694400   \n",
       "50%         7.347750       1.901300       3.396350      17.957950   \n",
       "max        16.716500       8.402400      18.281800      27.928800   \n",
       "\n",
       "             var_195        var_196        var_197        var_198  \\\n",
       "count  200000.000000  200000.000000  200000.000000  200000.000000   \n",
       "mean       -0.142088       2.303335       8.908158      15.870720   \n",
       "std         1.429372       5.454369       0.921625       3.010945   \n",
       "min        -5.261000     -14.209600       5.960600       6.299300   \n",
       "50%        -0.172700       2.408900       8.888200      15.934050   \n",
       "max         4.272900      18.321500      12.000400      26.079100   \n",
       "\n",
       "             var_199  \n",
       "count  200000.000000  \n",
       "mean       -3.326537  \n",
       "std        10.438015  \n",
       "min       -38.852800  \n",
       "50%        -2.819550  \n",
       "max        28.500700  \n",
       "\n",
       "[6 rows x 201 columns]"
      ]
     },
     "execution_count": 9,
     "metadata": {},
     "output_type": "execute_result"
    }
   ],
   "source": [
    "df.describe(percentiles=[])"
   ]
  },
  {
   "cell_type": "code",
   "execution_count": 10,
   "metadata": {},
   "outputs": [
    {
     "data": {
      "text/html": [
       "<div>\n",
       "<style scoped>\n",
       "    .dataframe tbody tr th:only-of-type {\n",
       "        vertical-align: middle;\n",
       "    }\n",
       "\n",
       "    .dataframe tbody tr th {\n",
       "        vertical-align: top;\n",
       "    }\n",
       "\n",
       "    .dataframe thead th {\n",
       "        text-align: right;\n",
       "    }\n",
       "</style>\n",
       "<table border=\"1\" class=\"dataframe\">\n",
       "  <thead>\n",
       "    <tr style=\"text-align: right;\">\n",
       "      <th></th>\n",
       "      <th>ID_code</th>\n",
       "      <th>target</th>\n",
       "      <th>var_0</th>\n",
       "      <th>var_1</th>\n",
       "      <th>var_2</th>\n",
       "      <th>var_3</th>\n",
       "      <th>var_4</th>\n",
       "      <th>var_5</th>\n",
       "      <th>var_6</th>\n",
       "      <th>var_7</th>\n",
       "      <th>...</th>\n",
       "      <th>var_190</th>\n",
       "      <th>var_191</th>\n",
       "      <th>var_192</th>\n",
       "      <th>var_193</th>\n",
       "      <th>var_194</th>\n",
       "      <th>var_195</th>\n",
       "      <th>var_196</th>\n",
       "      <th>var_197</th>\n",
       "      <th>var_198</th>\n",
       "      <th>var_199</th>\n",
       "    </tr>\n",
       "  </thead>\n",
       "  <tbody>\n",
       "    <tr>\n",
       "      <th>0</th>\n",
       "      <td>train_0</td>\n",
       "      <td>0</td>\n",
       "      <td>8.9255</td>\n",
       "      <td>-6.7863</td>\n",
       "      <td>11.9081</td>\n",
       "      <td>5.0930</td>\n",
       "      <td>11.4607</td>\n",
       "      <td>-9.2834</td>\n",
       "      <td>5.1187</td>\n",
       "      <td>18.6266</td>\n",
       "      <td>...</td>\n",
       "      <td>4.4354</td>\n",
       "      <td>3.9642</td>\n",
       "      <td>3.1364</td>\n",
       "      <td>1.6910</td>\n",
       "      <td>18.5227</td>\n",
       "      <td>-2.3978</td>\n",
       "      <td>7.8784</td>\n",
       "      <td>8.5635</td>\n",
       "      <td>12.7803</td>\n",
       "      <td>-1.0914</td>\n",
       "    </tr>\n",
       "    <tr>\n",
       "      <th>1</th>\n",
       "      <td>train_1</td>\n",
       "      <td>0</td>\n",
       "      <td>11.5006</td>\n",
       "      <td>-4.1473</td>\n",
       "      <td>13.8588</td>\n",
       "      <td>5.3890</td>\n",
       "      <td>12.3622</td>\n",
       "      <td>7.0433</td>\n",
       "      <td>5.6208</td>\n",
       "      <td>16.5338</td>\n",
       "      <td>...</td>\n",
       "      <td>7.6421</td>\n",
       "      <td>7.7214</td>\n",
       "      <td>2.5837</td>\n",
       "      <td>10.9516</td>\n",
       "      <td>15.4305</td>\n",
       "      <td>2.0339</td>\n",
       "      <td>8.1267</td>\n",
       "      <td>8.7889</td>\n",
       "      <td>18.3560</td>\n",
       "      <td>1.9518</td>\n",
       "    </tr>\n",
       "    <tr>\n",
       "      <th>2</th>\n",
       "      <td>train_2</td>\n",
       "      <td>0</td>\n",
       "      <td>8.6093</td>\n",
       "      <td>-2.7457</td>\n",
       "      <td>12.0805</td>\n",
       "      <td>7.8928</td>\n",
       "      <td>10.5825</td>\n",
       "      <td>-9.0837</td>\n",
       "      <td>6.9427</td>\n",
       "      <td>14.6155</td>\n",
       "      <td>...</td>\n",
       "      <td>2.9057</td>\n",
       "      <td>9.7905</td>\n",
       "      <td>1.6704</td>\n",
       "      <td>1.6858</td>\n",
       "      <td>21.6042</td>\n",
       "      <td>3.1417</td>\n",
       "      <td>-6.5213</td>\n",
       "      <td>8.2675</td>\n",
       "      <td>14.7222</td>\n",
       "      <td>0.3965</td>\n",
       "    </tr>\n",
       "    <tr>\n",
       "      <th>3</th>\n",
       "      <td>train_3</td>\n",
       "      <td>0</td>\n",
       "      <td>11.0604</td>\n",
       "      <td>-2.1518</td>\n",
       "      <td>8.9522</td>\n",
       "      <td>7.1957</td>\n",
       "      <td>12.5846</td>\n",
       "      <td>-1.8361</td>\n",
       "      <td>5.8428</td>\n",
       "      <td>14.9250</td>\n",
       "      <td>...</td>\n",
       "      <td>4.4666</td>\n",
       "      <td>4.7433</td>\n",
       "      <td>0.7178</td>\n",
       "      <td>1.4214</td>\n",
       "      <td>23.0347</td>\n",
       "      <td>-1.2706</td>\n",
       "      <td>-2.9275</td>\n",
       "      <td>10.2922</td>\n",
       "      <td>17.9697</td>\n",
       "      <td>-8.9996</td>\n",
       "    </tr>\n",
       "    <tr>\n",
       "      <th>4</th>\n",
       "      <td>train_4</td>\n",
       "      <td>0</td>\n",
       "      <td>9.8369</td>\n",
       "      <td>-1.4834</td>\n",
       "      <td>12.8746</td>\n",
       "      <td>6.6375</td>\n",
       "      <td>12.2772</td>\n",
       "      <td>2.4486</td>\n",
       "      <td>5.9405</td>\n",
       "      <td>19.2514</td>\n",
       "      <td>...</td>\n",
       "      <td>-1.4905</td>\n",
       "      <td>9.5214</td>\n",
       "      <td>-0.1508</td>\n",
       "      <td>9.1942</td>\n",
       "      <td>13.2876</td>\n",
       "      <td>-1.5121</td>\n",
       "      <td>3.9267</td>\n",
       "      <td>9.5031</td>\n",
       "      <td>17.9974</td>\n",
       "      <td>-8.8104</td>\n",
       "    </tr>\n",
       "  </tbody>\n",
       "</table>\n",
       "<p>5 rows × 202 columns</p>\n",
       "</div>"
      ],
      "text/plain": [
       "   ID_code  target    var_0   var_1    var_2   var_3    var_4   var_5   var_6  \\\n",
       "0  train_0       0   8.9255 -6.7863  11.9081  5.0930  11.4607 -9.2834  5.1187   \n",
       "1  train_1       0  11.5006 -4.1473  13.8588  5.3890  12.3622  7.0433  5.6208   \n",
       "2  train_2       0   8.6093 -2.7457  12.0805  7.8928  10.5825 -9.0837  6.9427   \n",
       "3  train_3       0  11.0604 -2.1518   8.9522  7.1957  12.5846 -1.8361  5.8428   \n",
       "4  train_4       0   9.8369 -1.4834  12.8746  6.6375  12.2772  2.4486  5.9405   \n",
       "\n",
       "     var_7   ...     var_190  var_191  var_192  var_193  var_194  var_195  \\\n",
       "0  18.6266   ...      4.4354   3.9642   3.1364   1.6910  18.5227  -2.3978   \n",
       "1  16.5338   ...      7.6421   7.7214   2.5837  10.9516  15.4305   2.0339   \n",
       "2  14.6155   ...      2.9057   9.7905   1.6704   1.6858  21.6042   3.1417   \n",
       "3  14.9250   ...      4.4666   4.7433   0.7178   1.4214  23.0347  -1.2706   \n",
       "4  19.2514   ...     -1.4905   9.5214  -0.1508   9.1942  13.2876  -1.5121   \n",
       "\n",
       "   var_196  var_197  var_198  var_199  \n",
       "0   7.8784   8.5635  12.7803  -1.0914  \n",
       "1   8.1267   8.7889  18.3560   1.9518  \n",
       "2  -6.5213   8.2675  14.7222   0.3965  \n",
       "3  -2.9275  10.2922  17.9697  -8.9996  \n",
       "4   3.9267   9.5031  17.9974  -8.8104  \n",
       "\n",
       "[5 rows x 202 columns]"
      ]
     },
     "execution_count": 10,
     "metadata": {},
     "output_type": "execute_result"
    }
   ],
   "source": [
    "df.head(5)"
   ]
  },
  {
   "cell_type": "markdown",
   "metadata": {},
   "source": [
    "Divide features, target and id_code"
   ]
  },
  {
   "cell_type": "code",
   "execution_count": 30,
   "metadata": {},
   "outputs": [
    {
     "name": "stdout",
     "output_type": "stream",
     "text": [
      "features (200000, 200)\n",
      "target (200000,)\n",
      "id_code (200000,)\n",
      "Wall time: 206 ms\n"
     ]
    }
   ],
   "source": [
    "%%time\n",
    "features = df.drop(['ID_code', 'target'], axis=1) #np.array(df)[:,2:]\n",
    "target = df[\"target\"] #np.array(df[\"target\"]).reshape(-1, 1)\n",
    "id_code = df[\"ID_code\"] #np.array(df[\"ID_code\"]).reshape(-1, 1)\n",
    "\n",
    "print(\"features\", features.shape)\n",
    "print(\"target\", target.shape)\n",
    "print(\"id_code\", id_code.shape)"
   ]
  },
  {
   "cell_type": "markdown",
   "metadata": {},
   "source": [
    "Check for missing values"
   ]
  },
  {
   "cell_type": "code",
   "execution_count": 31,
   "metadata": {},
   "outputs": [
    {
     "data": {
      "text/plain": [
       "0.0"
      ]
     },
     "execution_count": 31,
     "metadata": {},
     "output_type": "execute_result"
    }
   ],
   "source": [
    "df.isnull().sum().sum()/df.shape[0]"
   ]
  },
  {
   "cell_type": "markdown",
   "metadata": {},
   "source": [
    "Distribution of target classes"
   ]
  },
  {
   "cell_type": "code",
   "execution_count": 32,
   "metadata": {},
   "outputs": [
    {
     "data": {
      "text/plain": [
       "0    89.951\n",
       "1    10.049\n",
       "Name: target, dtype: float64"
      ]
     },
     "execution_count": 32,
     "metadata": {},
     "output_type": "execute_result"
    }
   ],
   "source": [
    "df[\"target\"].value_counts()/df.shape[0]*100"
   ]
  },
  {
   "cell_type": "markdown",
   "metadata": {},
   "source": [
    "**The data is imbalanced.** This means that metric _accuracy_ means very little here since we have a _classification problem_."
   ]
  },
  {
   "cell_type": "markdown",
   "metadata": {},
   "source": [
    "Calculate unique values for features"
   ]
  },
  {
   "cell_type": "code",
   "execution_count": 33,
   "metadata": {},
   "outputs": [
    {
     "name": "stdout",
     "output_type": "stream",
     "text": [
      "        name amount percentage\n",
      "1     target      2        0.0\n",
      "70    var_68    451      0.002\n",
      "93    var_91   7962       0.04\n",
      "110  var_108   8525      0.043\n",
      "105  var_103   9376      0.047\n",
      "        name  amount percentage\n",
      "63    var_61  159369      0.797\n",
      "76    var_74  161058      0.805\n",
      "119  var_117  164469      0.822\n",
      "47    var_45  169968       0.85\n",
      "0    ID_code  200000        1.0\n",
      "Wall time: 3.28 s\n"
     ]
    }
   ],
   "source": [
    "%%time\n",
    "column_names = df.columns\n",
    "\n",
    "temp = np.empty((0,3), str)\n",
    "\n",
    "for column in column_names:\n",
    "    cnt = len(df[column].unique())\n",
    "    pct = round(len(df[column].unique())/df.shape[0], 3)\n",
    "    app = [[column, cnt, pct]]\n",
    "    temp = np.concatenate((temp, app), axis=0)\n",
    "    \n",
    "column_df = pd.DataFrame(temp, columns=[\"name\", \"amount\", \"percentage\"])\n",
    "\n",
    "print(column_df.sort_values([\"percentage\"], ascending=True).head(5))\n",
    "print(column_df.sort_values([\"percentage\"], ascending=True).tail(5))"
   ]
  },
  {
   "cell_type": "markdown",
   "metadata": {},
   "source": [
    "<hr style=\"background-color: black;height: 5.0px;\"/>\n",
    "# Prepare train, test and validation sets"
   ]
  },
  {
   "cell_type": "code",
   "execution_count": 34,
   "metadata": {},
   "outputs": [],
   "source": [
    "from sklearn.model_selection import train_test_split"
   ]
  },
  {
   "cell_type": "code",
   "execution_count": 35,
   "metadata": {},
   "outputs": [],
   "source": [
    "feature_high_density = ['var_139', 'var_76', 'var_149', 'var_21', 'var_184', 'var_174',\n",
    "       'var_80', 'var_45', 'var_40', 'var_90', 'var_26', 'var_48',\n",
    "       'var_118', 'var_18', 'var_172', 'var_67', 'var_70', 'var_107',\n",
    "       'var_86', 'var_147', 'var_44', 'var_74', 'var_165', 'var_199',\n",
    "       'var_13', 'var_190', 'var_173', 'var_110', 'var_123', 'var_137',\n",
    "       'var_5', 'var_49', 'var_167', 'var_75', 'var_154', 'var_164',\n",
    "       'var_122', 'var_109', 'var_155', 'var_135', 'var_170', 'var_51',\n",
    "       'var_1', 'var_87', 'var_141', 'var_33', 'var_82', 'var_97',\n",
    "       'var_92', 'var_35', 'var_81', 'var_157', 'var_22', 'var_187',\n",
    "       'var_178', 'var_83', 'var_163', 'var_180', 'var_146', 'var_102',\n",
    "       'var_198', 'var_0', 'var_2', 'var_52', 'var_191', 'var_179',\n",
    "       'var_89', 'var_11', 'var_54', 'var_188', 'var_115', 'var_120',\n",
    "       'var_196', 'var_119', 'var_94', 'var_56', 'var_127', 'var_36',\n",
    "       'var_145', 'var_20', 'var_142', 'var_151', 'var_24', 'var_99',\n",
    "       'var_134', 'var_58', 'var_177', 'var_55', 'var_186', 'var_78',\n",
    "       'var_85', 'var_47', 'var_19', 'var_128', 'var_61', 'var_138',\n",
    "       'var_171', 'var_84', 'var_32', 'var_140', 'var_193', 'var_194',\n",
    "       'var_77', 'var_121', 'var_8', 'var_150', 'var_175', 'var_192',\n",
    "       'var_182', 'var_113', 'var_159', 'var_106', 'var_176', 'var_160',\n",
    "       'var_6', 'var_31', 'var_104', 'var_72', 'var_9', 'var_88',\n",
    "       'var_73', 'var_63', 'var_53', 'var_162', 'var_101', 'var_168',\n",
    "       'var_65', 'var_195', 'var_116', 'var_132', 'var_112', 'var_117',\n",
    "       'var_136', 'var_197', 'var_69', 'var_143', 'var_158', 'var_62',\n",
    "       'var_111', 'var_152', 'var_34', 'var_114', 'var_96', 'var_130',\n",
    "       'var_129', 'var_183', 'var_95', 'var_60', 'var_66', 'var_16',\n",
    "       'var_166', 'var_156', 'var_3', 'var_100', 'var_64', 'var_144',\n",
    "       'var_105', 'var_39', 'var_169', 'var_46', 'var_93', 'var_28',\n",
    "       'var_4', 'var_181', 'var_37', 'var_133', 'var_12', 'var_131',\n",
    "       'var_23', 'var_7', 'var_124', 'var_10', 'var_57', 'var_153',\n",
    "       'var_14', 'var_29', 'var_189', 'var_79', 'var_43', 'var_59',\n",
    "       'var_71', 'var_108', 'var_148', 'var_125', 'var_50', 'var_91',\n",
    "       'var_41', 'var_42', 'var_17', 'var_30', 'var_15', 'var_126',\n",
    "       'var_25', 'var_161', 'var_38', 'var_98', 'var_27', 'var_185',\n",
    "       'var_103', 'var_68']\n",
    "\n",
    "feature_high_density = feature_high_density[:100]"
   ]
  },
  {
   "cell_type": "code",
   "execution_count": 36,
   "metadata": {},
   "outputs": [
    {
     "name": "stdout",
     "output_type": "stream",
     "text": [
      "Shape of x_train: (144000, 200)\n",
      "Shape of x_test: (40000, 200)\n",
      "Shape of x_val: (16000, 200)\n",
      "Shape of y_train: (144000, 1)\n",
      "Shape of y_test: (40000, 1)\n",
      "Shape of y_val: (16000, 1)\n",
      "Wall time: 763 ms\n"
     ]
    }
   ],
   "source": [
    "%%time\n",
    "x_train, x_test, y_train, y_test = train_test_split(features, target, test_size=0.2, random_state=15, stratify=target)\n",
    "#x_train, x_test, y_train, y_test = train_test_split(features[feature_high_density], target, test_size=0.2, random_state=15, stratify=target)\n",
    "x_train, x_val, y_train, y_val = train_test_split(x_train, y_train, test_size=0.1, random_state=15, stratify=y_train)\n",
    "\n",
    "x_train = np.float64(x_train)\n",
    "x_val = np.float64(x_val)\n",
    "x_test = np.float64(x_test)\n",
    "\n",
    "y_train = np.array(y_train).reshape(-1, 1)\n",
    "y_val = np.array(y_val).reshape(-1, 1)\n",
    "y_test = np.array(y_test).reshape(-1, 1)\n",
    "\n",
    "print(\"Shape of x_train:\", x_train.shape)\n",
    "print(\"Shape of x_test:\", x_test.shape)\n",
    "print(\"Shape of x_val:\", x_val.shape)\n",
    "print(\"Shape of y_train:\", y_train.shape)\n",
    "print(\"Shape of y_test:\", y_test.shape)\n",
    "print(\"Shape of y_val:\", y_val.shape)"
   ]
  },
  {
   "cell_type": "markdown",
   "metadata": {},
   "source": [
    "Scale the data"
   ]
  },
  {
   "cell_type": "code",
   "execution_count": 37,
   "metadata": {},
   "outputs": [
    {
     "name": "stdout",
     "output_type": "stream",
     "text": [
      "Wall time: 366 ms\n"
     ]
    }
   ],
   "source": [
    "%%time\n",
    "from sklearn.preprocessing import MinMaxScaler\n",
    "scaler = MinMaxScaler()\n",
    "scaler.fit(x_train)"
   ]
  },
  {
   "cell_type": "code",
   "execution_count": 38,
   "metadata": {},
   "outputs": [
    {
     "name": "stdout",
     "output_type": "stream",
     "text": [
      "Wall time: 511 ms\n"
     ]
    }
   ],
   "source": [
    "%%time\n",
    "x_train_scaled = scaler.transform(x_train)\n",
    "x_val_scaled = scaler.transform(x_val)\n",
    "x_test_scaled = scaler.transform(x_test)"
   ]
  },
  {
   "cell_type": "markdown",
   "metadata": {},
   "source": [
    "<hr style=\"background-color: black;height: 5.0px;\"/>\n",
    "# Build the NN"
   ]
  },
  {
   "cell_type": "code",
   "execution_count": 39,
   "metadata": {},
   "outputs": [],
   "source": [
    "def prob_to_class(x, threshold=0.5):\n",
    "    return np.where(x > threshold, 1, 0)"
   ]
  },
  {
   "cell_type": "code",
   "execution_count": 124,
   "metadata": {},
   "outputs": [],
   "source": [
    "import tensorflow as tf\n",
    "from tensorflow.keras import Sequential\n",
    "from tensorflow.layers import Dense, Dropout, BatchNormalization\n",
    "from tensorflow.keras.constraints import unit_norm, max_norm\n",
    "from tensorflow.keras import regularizers, initializers\n",
    "\n",
    "from sklearn.metrics import roc_auc_score"
   ]
  },
  {
   "cell_type": "code",
   "execution_count": 41,
   "metadata": {},
   "outputs": [],
   "source": [
    "def auroc(y_true, y_pred):\n",
    "    return tf.py_func(roc_auc_score, (y_true, y_pred), tf.double)"
   ]
  },
  {
   "cell_type": "markdown",
   "metadata": {},
   "source": [
    "### Accepted model"
   ]
  },
  {
   "cell_type": "code",
   "execution_count": 135,
   "metadata": {
    "scrolled": true
   },
   "outputs": [
    {
     "name": "stdout",
     "output_type": "stream",
     "text": [
      "Size of input dimension: 200\n",
      "Train on 144000 samples, validate on 16000 samples\n",
      "Epoch 1/100\n",
      " - 4s - loss: 0.4305 - val_loss: 0.3827\n",
      "Epoch 2/100\n",
      " - 3s - loss: 0.3425 - val_loss: 0.3378\n",
      "Epoch 3/100\n",
      " - 3s - loss: 0.3301 - val_loss: 0.3243\n",
      "Epoch 4/100\n",
      " - 4s - loss: 0.3240 - val_loss: 0.3225\n",
      "Epoch 5/100\n",
      " - 3s - loss: 0.3222 - val_loss: 0.3215\n",
      "Epoch 6/100\n",
      " - 3s - loss: 0.3211 - val_loss: 0.3202\n",
      "Epoch 7/100\n",
      " - 3s - loss: 0.3197 - val_loss: 0.3188\n",
      "Epoch 8/100\n",
      " - 3s - loss: 0.3184 - val_loss: 0.3174\n",
      "Epoch 9/100\n",
      " - 3s - loss: 0.3169 - val_loss: 0.3159\n",
      "Epoch 10/100\n",
      " - 3s - loss: 0.3154 - val_loss: 0.3144\n",
      "Epoch 11/100\n",
      " - 3s - loss: 0.3137 - val_loss: 0.3125\n",
      "Epoch 12/100\n",
      " - 3s - loss: 0.3119 - val_loss: 0.3106\n",
      "Epoch 13/100\n",
      " - 3s - loss: 0.3099 - val_loss: 0.3086\n",
      "Epoch 14/100\n",
      " - 3s - loss: 0.3078 - val_loss: 0.3062\n",
      "Epoch 15/100\n",
      " - 3s - loss: 0.3054 - val_loss: 0.3036\n",
      "Epoch 16/100\n",
      " - 3s - loss: 0.3027 - val_loss: 0.3009\n",
      "Epoch 17/100\n",
      " - 3s - loss: 0.3000 - val_loss: 0.2980\n",
      "Epoch 18/100\n",
      " - 3s - loss: 0.2969 - val_loss: 0.2947\n",
      "Epoch 19/100\n",
      " - 3s - loss: 0.2936 - val_loss: 0.2913\n",
      "Epoch 20/100\n",
      " - 3s - loss: 0.2901 - val_loss: 0.2877\n",
      "Epoch 21/100\n",
      " - 3s - loss: 0.2865 - val_loss: 0.2838\n",
      "Epoch 22/100\n",
      " - 3s - loss: 0.2826 - val_loss: 0.2799\n",
      "Epoch 23/100\n",
      " - 3s - loss: 0.2787 - val_loss: 0.2759\n",
      "Epoch 24/100\n",
      " - 3s - loss: 0.2747 - val_loss: 0.2718\n",
      "Epoch 25/100\n",
      " - 3s - loss: 0.2706 - val_loss: 0.2677\n",
      "Epoch 26/100\n",
      " - 3s - loss: 0.2667 - val_loss: 0.2638\n",
      "Epoch 27/100\n",
      " - 3s - loss: 0.2629 - val_loss: 0.2601\n",
      "Epoch 28/100\n",
      " - 3s - loss: 0.2593 - val_loss: 0.2566\n",
      "Epoch 29/100\n",
      " - 3s - loss: 0.2557 - val_loss: 0.2532\n",
      "Epoch 30/100\n",
      " - 3s - loss: 0.2526 - val_loss: 0.2503\n",
      "Epoch 31/100\n",
      " - 3s - loss: 0.2495 - val_loss: 0.2475\n",
      "Epoch 32/100\n",
      " - 3s - loss: 0.2469 - val_loss: 0.2450\n",
      "Epoch 33/100\n",
      " - 3s - loss: 0.2445 - val_loss: 0.2430\n",
      "Epoch 34/100\n",
      " - 3s - loss: 0.2424 - val_loss: 0.2409\n",
      "Epoch 35/100\n",
      " - 3s - loss: 0.2404 - val_loss: 0.2394\n",
      "Epoch 36/100\n",
      " - 3s - loss: 0.2390 - val_loss: 0.2383\n",
      "Epoch 37/100\n",
      " - 3s - loss: 0.2379 - val_loss: 0.2367\n",
      "Epoch 38/100\n",
      " - 3s - loss: 0.2367 - val_loss: 0.2360\n",
      "Epoch 39/100\n",
      " - 3s - loss: 0.2358 - val_loss: 0.2351\n",
      "Epoch 40/100\n",
      " - 3s - loss: 0.2348 - val_loss: 0.2346\n",
      "Epoch 41/100\n",
      " - 3s - loss: 0.2342 - val_loss: 0.2341\n",
      "Epoch 42/100\n",
      " - 3s - loss: 0.2335 - val_loss: 0.2336\n",
      "Epoch 43/100\n",
      " - 3s - loss: 0.2337 - val_loss: 0.2336\n",
      "Epoch 44/100\n",
      " - 3s - loss: 0.2333 - val_loss: 0.2338\n",
      "Epoch 45/100\n",
      " - 3s - loss: 0.2327 - val_loss: 0.2327\n",
      "Epoch 46/100\n",
      " - 3s - loss: 0.2324 - val_loss: 0.2327\n",
      "Epoch 47/100\n",
      " - 2s - loss: 0.2321 - val_loss: 0.2326\n",
      "Epoch 48/100\n",
      " - 3s - loss: 0.2320 - val_loss: 0.2323\n",
      "Epoch 49/100\n",
      " - 3s - loss: 0.2318 - val_loss: 0.2324\n",
      "Epoch 50/100\n",
      " - 3s - loss: 0.2316 - val_loss: 0.2327\n",
      "Epoch 51/100\n",
      " - 3s - loss: 0.2319 - val_loss: 0.2323\n",
      "Epoch 52/100\n",
      " - 3s - loss: 0.2318 - val_loss: 0.2323\n",
      "Epoch 53/100\n",
      " - 3s - loss: 0.2316 - val_loss: 0.2324\n",
      "Epoch 54/100\n",
      " - 3s - loss: 0.2312 - val_loss: 0.2320\n",
      "Epoch 55/100\n",
      " - 3s - loss: 0.2313 - val_loss: 0.2319\n",
      "Epoch 56/100\n",
      " - 3s - loss: 0.2311 - val_loss: 0.2319\n",
      "Epoch 57/100\n",
      " - 3s - loss: 0.2312 - val_loss: 0.2319\n",
      "Epoch 58/100\n",
      " - 3s - loss: 0.2311 - val_loss: 0.2318\n",
      "Epoch 59/100\n",
      " - 3s - loss: 0.2314 - val_loss: 0.2322\n",
      "Epoch 60/100\n",
      " - 3s - loss: 0.2313 - val_loss: 0.2318\n",
      "Epoch 61/100\n",
      " - 3s - loss: 0.2313 - val_loss: 0.2324\n",
      "Epoch 62/100\n",
      " - 3s - loss: 0.2313 - val_loss: 0.2321\n",
      "Epoch 63/100\n",
      " - 3s - loss: 0.2310 - val_loss: 0.2318\n",
      "Epoch 64/100\n",
      " - 3s - loss: 0.2313 - val_loss: 0.2324\n",
      "Epoch 65/100\n",
      " - 3s - loss: 0.2312 - val_loss: 0.2323\n",
      "Epoch 66/100\n",
      " - 3s - loss: 0.2312 - val_loss: 0.2323\n",
      "Epoch 67/100\n",
      " - 3s - loss: 0.2311 - val_loss: 0.2318\n",
      "Epoch 68/100\n",
      " - 3s - loss: 0.2309 - val_loss: 0.2319\n",
      "Epoch 69/100\n",
      " - 3s - loss: 0.2310 - val_loss: 0.2320\n",
      "Epoch 70/100\n",
      " - 3s - loss: 0.2308 - val_loss: 0.2320\n",
      "Epoch 71/100\n",
      " - 3s - loss: 0.2307 - val_loss: 0.2317\n",
      "Epoch 72/100\n",
      " - 3s - loss: 0.2307 - val_loss: 0.2317\n",
      "Epoch 73/100\n",
      " - 3s - loss: 0.2306 - val_loss: 0.2320\n",
      "Epoch 74/100\n",
      " - 3s - loss: 0.2308 - val_loss: 0.2317\n",
      "Epoch 75/100\n",
      " - 3s - loss: 0.2307 - val_loss: 0.2321\n",
      "Epoch 76/100\n",
      " - 3s - loss: 0.2307 - val_loss: 0.2316\n",
      "Epoch 77/100\n",
      " - 3s - loss: 0.2306 - val_loss: 0.2316\n",
      "Epoch 78/100\n",
      " - 3s - loss: 0.2306 - val_loss: 0.2319\n",
      "Epoch 79/100\n",
      " - 3s - loss: 0.2306 - val_loss: 0.2316\n",
      "Epoch 80/100\n",
      " - 3s - loss: 0.2309 - val_loss: 0.2316\n",
      "Epoch 81/100\n",
      " - 3s - loss: 0.2308 - val_loss: 0.2316\n",
      "Epoch 82/100\n",
      " - 3s - loss: 0.2307 - val_loss: 0.2320\n",
      "Epoch 83/100\n",
      " - 3s - loss: 0.2307 - val_loss: 0.2317\n",
      "Epoch 84/100\n",
      " - 3s - loss: 0.2306 - val_loss: 0.2316\n",
      "Epoch 85/100\n",
      " - 3s - loss: 0.2306 - val_loss: 0.2320\n",
      "Epoch 86/100\n",
      " - 3s - loss: 0.2307 - val_loss: 0.2323\n",
      "Epoch 87/100\n",
      " - 3s - loss: 0.2306 - val_loss: 0.2316\n",
      "Epoch 88/100\n",
      " - 3s - loss: 0.2306 - val_loss: 0.2319\n",
      "Epoch 89/100\n",
      " - 3s - loss: 0.2309 - val_loss: 0.2317\n",
      "Epoch 90/100\n",
      " - 3s - loss: 0.2306 - val_loss: 0.2316\n",
      "Epoch 91/100\n",
      " - 3s - loss: 0.2304 - val_loss: 0.2315\n",
      "Epoch 92/100\n",
      " - 3s - loss: 0.2305 - val_loss: 0.2315\n",
      "Epoch 93/100\n",
      " - 3s - loss: 0.2305 - val_loss: 0.2316\n",
      "Epoch 94/100\n",
      " - 3s - loss: 0.2308 - val_loss: 0.2322\n",
      "Epoch 95/100\n",
      " - 3s - loss: 0.2307 - val_loss: 0.2316\n",
      "Epoch 96/100\n",
      " - 3s - loss: 0.2304 - val_loss: 0.2316\n",
      "Epoch 97/100\n",
      " - 3s - loss: 0.2304 - val_loss: 0.2316\n",
      "Epoch 98/100\n",
      " - 3s - loss: 0.2308 - val_loss: 0.2325\n",
      "Epoch 99/100\n",
      " - 3s - loss: 0.2306 - val_loss: 0.2315\n",
      "Epoch 100/100\n",
      " - 3s - loss: 0.2304 - val_loss: 0.2315\n",
      "Wall time: 4min 40s\n"
     ]
    }
   ],
   "source": [
    "%%time\n",
    "print(\"Size of input dimension:\", x_train_scaled.shape[1])\n",
    "model = Sequential()\n",
    "model.add(Dense(units=256, input_dim=x_train_scaled.shape[1],\n",
    "                #kernel_constraint=unit_norm(),\n",
    "                #kernel_regularizer=regularizers.l2(0.001),\n",
    "                activation=\"relu\"))\n",
    "model.add(BatchNormalization())\n",
    "model.add(Dropout(rate=0.8)) # 0.2 < dropout < 0.5\n",
    "#model.add(Dense(units=128, input_dim=x_train_scaled.shape[1],\n",
    "                #kernel_constraint=unit_norm(),\n",
    "                #kernel_regularizer=regularizers.l2(0.001),\n",
    "#                activation=\"tanh\"))\n",
    "#model.add(BatchNormalization())\n",
    "#model.add(Dropout(rate=0.5)) # 0.2 < dropout < 0.5\n",
    "model.add(Dense(units=1, activation=\"sigmoid\"))\n",
    "\n",
    "model.compile(optimizer=\"adam\", loss=\"binary_crossentropy\")\n",
    "#model.compile(optimizer=\"adam\", loss=\"binary_crossentropy\", metrics=[auroc])\n",
    "\n",
    "history = model.fit(x_train_scaled, y_train, validation_data=(x_val_scaled, y_val),\n",
    "                    epochs=100,\n",
    "                    batch_size=int(x_train_scaled.shape[0]/10),\n",
    "                    #batch_size=2048,\n",
    "                    verbose=2)"
   ]
  },
  {
   "cell_type": "code",
   "execution_count": 65,
   "metadata": {},
   "outputs": [
    {
     "name": "stdout",
     "output_type": "stream",
     "text": [
      "_________________________________________________________________\n",
      "Layer (type)                 Output Shape              Param #   \n",
      "=================================================================\n",
      "dense_10 (Dense)             (None, 80)                16080     \n",
      "_________________________________________________________________\n",
      "dropout_7 (Dropout)          (None, 80)                0         \n",
      "_________________________________________________________________\n",
      "dense_11 (Dense)             (None, 40)                3240      \n",
      "_________________________________________________________________\n",
      "dropout_8 (Dropout)          (None, 40)                0         \n",
      "_________________________________________________________________\n",
      "dense_12 (Dense)             (None, 1)                 41        \n",
      "=================================================================\n",
      "Total params: 19,361\n",
      "Trainable params: 19,361\n",
      "Non-trainable params: 0\n",
      "_________________________________________________________________\n"
     ]
    }
   ],
   "source": [
    "model.summary()"
   ]
  },
  {
   "cell_type": "markdown",
   "metadata": {},
   "source": [
    "Evaluate"
   ]
  },
  {
   "cell_type": "code",
   "execution_count": 136,
   "metadata": {},
   "outputs": [
    {
     "name": "stdout",
     "output_type": "stream",
     "text": [
      "40000/40000 [==============================] - 1s 24us/step\n",
      "Metric loss : 0.2336\n"
     ]
    }
   ],
   "source": [
    "result = model.evaluate(x_test_scaled, y_test)\n",
    "print(\"Metric\", model.metrics_names[0],\":\",str(round(result, 4)))"
   ]
  },
  {
   "cell_type": "code",
   "execution_count": 137,
   "metadata": {},
   "outputs": [
    {
     "name": "stdout",
     "output_type": "stream",
     "text": [
      "probability    float64\n",
      "predicted      float64\n",
      "target         float64\n",
      "dtype: object\n",
      "0.0    96.14\n",
      "1.0     3.86\n",
      "Name: predicted, dtype: float64\n",
      "0.0    89.95\n",
      "1.0    10.05\n",
      "Name: target, dtype: float64\n"
     ]
    },
    {
     "data": {
      "text/html": [
       "<div>\n",
       "<style scoped>\n",
       "    .dataframe tbody tr th:only-of-type {\n",
       "        vertical-align: middle;\n",
       "    }\n",
       "\n",
       "    .dataframe tbody tr th {\n",
       "        vertical-align: top;\n",
       "    }\n",
       "\n",
       "    .dataframe thead th {\n",
       "        text-align: right;\n",
       "    }\n",
       "</style>\n",
       "<table border=\"1\" class=\"dataframe\">\n",
       "  <thead>\n",
       "    <tr style=\"text-align: right;\">\n",
       "      <th></th>\n",
       "      <th>probability</th>\n",
       "      <th>predicted</th>\n",
       "      <th>target</th>\n",
       "    </tr>\n",
       "  </thead>\n",
       "  <tbody>\n",
       "    <tr>\n",
       "      <th>0</th>\n",
       "      <td>0.100877</td>\n",
       "      <td>0.0</td>\n",
       "      <td>0.0</td>\n",
       "    </tr>\n",
       "    <tr>\n",
       "      <th>1</th>\n",
       "      <td>0.014841</td>\n",
       "      <td>0.0</td>\n",
       "      <td>0.0</td>\n",
       "    </tr>\n",
       "    <tr>\n",
       "      <th>2</th>\n",
       "      <td>0.016622</td>\n",
       "      <td>0.0</td>\n",
       "      <td>0.0</td>\n",
       "    </tr>\n",
       "    <tr>\n",
       "      <th>3</th>\n",
       "      <td>0.000785</td>\n",
       "      <td>0.0</td>\n",
       "      <td>0.0</td>\n",
       "    </tr>\n",
       "    <tr>\n",
       "      <th>4</th>\n",
       "      <td>0.019304</td>\n",
       "      <td>0.0</td>\n",
       "      <td>0.0</td>\n",
       "    </tr>\n",
       "  </tbody>\n",
       "</table>\n",
       "</div>"
      ],
      "text/plain": [
       "   probability  predicted  target\n",
       "0     0.100877        0.0     0.0\n",
       "1     0.014841        0.0     0.0\n",
       "2     0.016622        0.0     0.0\n",
       "3     0.000785        0.0     0.0\n",
       "4     0.019304        0.0     0.0"
      ]
     },
     "execution_count": 137,
     "metadata": {},
     "output_type": "execute_result"
    }
   ],
   "source": [
    "probability_x_test =  model.predict(x_test_scaled)\n",
    "res_df = pd.DataFrame(np.concatenate((probability_x_test, prob_to_class(probability_x_test, 0.5), y_test), axis=1), columns=[\"probability\", \"predicted\", \"target\"])\n",
    "print(res_df.dtypes)\n",
    "print(res_df[\"predicted\"].value_counts()/res_df.shape[0]*100)\n",
    "print(res_df[\"target\"].value_counts()/res_df.shape[0]*100)\n",
    "res_df.head(5)"
   ]
  },
  {
   "cell_type": "code",
   "execution_count": 138,
   "metadata": {},
   "outputs": [
    {
     "data": {
      "image/png": "[encoded data removed]",
      "text/plain": [
       "<Figure size 432x288 with 1 Axes>"
      ]
     },
     "metadata": {},
     "output_type": "display_data"
    }
   ],
   "source": [
    "max_loss = np.max(history.history[\"loss\"])\n",
    "min_loss = np.min(history.history[\"val_loss\"]) - 0.25 * np.min(history.history[\"val_loss\"])\n",
    "plt.plot(history.history[\"loss\"])\n",
    "plt.plot(history.history[\"val_loss\"])\n",
    "plt.title(\"Model's Training & Validation loss across epochs\")\n",
    "plt.ylabel('Loss')\n",
    "plt.xlabel('Epochs')\n",
    "plt.ylim(min_loss, max_loss)\n",
    "plt.legend(['Train', 'Validation'], loc='upper right')\n",
    "plt.show()"
   ]
  },
  {
   "cell_type": "markdown",
   "metadata": {},
   "source": [
    "<hr style=\"background-color: black;height: 5.0px;\"/>\n",
    "## ROC"
   ]
  },
  {
   "cell_type": "code",
   "execution_count": 23,
   "metadata": {},
   "outputs": [],
   "source": [
    "from sklearn.metrics import roc_auc_score"
   ]
  },
  {
   "cell_type": "code",
   "execution_count": 139,
   "metadata": {},
   "outputs": [
    {
     "name": "stdout",
     "output_type": "stream",
     "text": [
      "0.8595957123775231\n",
      "Wall time: 11 ms\n"
     ]
    }
   ],
   "source": [
    "%%time\n",
    "roc_score = roc_auc_score(y_test, probability_x_test)\n",
    "\n",
    "print(roc_score)"
   ]
  },
  {
   "cell_type": "code",
   "execution_count": null,
   "metadata": {},
   "outputs": [],
   "source": [
    "#roc - 0.857143"
   ]
  },
  {
   "cell_type": "markdown",
   "metadata": {},
   "source": [
    "<hr style=\"background-color: black;height: 5.0px;\"/>\n",
    "## Submission of results"
   ]
  },
  {
   "cell_type": "code",
   "execution_count": 82,
   "metadata": {},
   "outputs": [],
   "source": [
    "test = pd.read_csv(\"data/test.csv\")"
   ]
  },
  {
   "cell_type": "code",
   "execution_count": 83,
   "metadata": {},
   "outputs": [
    {
     "data": {
      "text/plain": [
       "(200000, 201)"
      ]
     },
     "execution_count": 83,
     "metadata": {},
     "output_type": "execute_result"
    }
   ],
   "source": [
    "test.shape"
   ]
  },
  {
   "cell_type": "code",
   "execution_count": 84,
   "metadata": {},
   "outputs": [
    {
     "data": {
      "text/html": [
       "<div>\n",
       "<style scoped>\n",
       "    .dataframe tbody tr th:only-of-type {\n",
       "        vertical-align: middle;\n",
       "    }\n",
       "\n",
       "    .dataframe tbody tr th {\n",
       "        vertical-align: top;\n",
       "    }\n",
       "\n",
       "    .dataframe thead th {\n",
       "        text-align: right;\n",
       "    }\n",
       "</style>\n",
       "<table border=\"1\" class=\"dataframe\">\n",
       "  <thead>\n",
       "    <tr style=\"text-align: right;\">\n",
       "      <th></th>\n",
       "      <th>ID_code</th>\n",
       "      <th>var_0</th>\n",
       "      <th>var_1</th>\n",
       "      <th>var_2</th>\n",
       "      <th>var_3</th>\n",
       "      <th>var_4</th>\n",
       "      <th>var_5</th>\n",
       "      <th>var_6</th>\n",
       "      <th>var_7</th>\n",
       "      <th>var_8</th>\n",
       "      <th>...</th>\n",
       "      <th>var_190</th>\n",
       "      <th>var_191</th>\n",
       "      <th>var_192</th>\n",
       "      <th>var_193</th>\n",
       "      <th>var_194</th>\n",
       "      <th>var_195</th>\n",
       "      <th>var_196</th>\n",
       "      <th>var_197</th>\n",
       "      <th>var_198</th>\n",
       "      <th>var_199</th>\n",
       "    </tr>\n",
       "  </thead>\n",
       "  <tbody>\n",
       "    <tr>\n",
       "      <th>0</th>\n",
       "      <td>test_0</td>\n",
       "      <td>11.0656</td>\n",
       "      <td>7.7798</td>\n",
       "      <td>12.9536</td>\n",
       "      <td>9.4292</td>\n",
       "      <td>11.4327</td>\n",
       "      <td>-2.3805</td>\n",
       "      <td>5.8493</td>\n",
       "      <td>18.2675</td>\n",
       "      <td>2.1337</td>\n",
       "      <td>...</td>\n",
       "      <td>-2.1556</td>\n",
       "      <td>11.8495</td>\n",
       "      <td>-1.4300</td>\n",
       "      <td>2.4508</td>\n",
       "      <td>13.7112</td>\n",
       "      <td>2.4669</td>\n",
       "      <td>4.3654</td>\n",
       "      <td>10.7200</td>\n",
       "      <td>15.4722</td>\n",
       "      <td>-8.7197</td>\n",
       "    </tr>\n",
       "    <tr>\n",
       "      <th>1</th>\n",
       "      <td>test_1</td>\n",
       "      <td>8.5304</td>\n",
       "      <td>1.2543</td>\n",
       "      <td>11.3047</td>\n",
       "      <td>5.1858</td>\n",
       "      <td>9.1974</td>\n",
       "      <td>-4.0117</td>\n",
       "      <td>6.0196</td>\n",
       "      <td>18.6316</td>\n",
       "      <td>-4.4131</td>\n",
       "      <td>...</td>\n",
       "      <td>10.6165</td>\n",
       "      <td>8.8349</td>\n",
       "      <td>0.9403</td>\n",
       "      <td>10.1282</td>\n",
       "      <td>15.5765</td>\n",
       "      <td>0.4773</td>\n",
       "      <td>-1.4852</td>\n",
       "      <td>9.8714</td>\n",
       "      <td>19.1293</td>\n",
       "      <td>-20.9760</td>\n",
       "    </tr>\n",
       "    <tr>\n",
       "      <th>2</th>\n",
       "      <td>test_2</td>\n",
       "      <td>5.4827</td>\n",
       "      <td>-10.3581</td>\n",
       "      <td>10.1407</td>\n",
       "      <td>7.0479</td>\n",
       "      <td>10.2628</td>\n",
       "      <td>9.8052</td>\n",
       "      <td>4.8950</td>\n",
       "      <td>20.2537</td>\n",
       "      <td>1.5233</td>\n",
       "      <td>...</td>\n",
       "      <td>-0.7484</td>\n",
       "      <td>10.9935</td>\n",
       "      <td>1.9803</td>\n",
       "      <td>2.1800</td>\n",
       "      <td>12.9813</td>\n",
       "      <td>2.1281</td>\n",
       "      <td>-7.1086</td>\n",
       "      <td>7.0618</td>\n",
       "      <td>19.8956</td>\n",
       "      <td>-23.1794</td>\n",
       "    </tr>\n",
       "    <tr>\n",
       "      <th>3</th>\n",
       "      <td>test_3</td>\n",
       "      <td>8.5374</td>\n",
       "      <td>-1.3222</td>\n",
       "      <td>12.0220</td>\n",
       "      <td>6.5749</td>\n",
       "      <td>8.8458</td>\n",
       "      <td>3.1744</td>\n",
       "      <td>4.9397</td>\n",
       "      <td>20.5660</td>\n",
       "      <td>3.3755</td>\n",
       "      <td>...</td>\n",
       "      <td>9.5702</td>\n",
       "      <td>9.0766</td>\n",
       "      <td>1.6580</td>\n",
       "      <td>3.5813</td>\n",
       "      <td>15.1874</td>\n",
       "      <td>3.1656</td>\n",
       "      <td>3.9567</td>\n",
       "      <td>9.2295</td>\n",
       "      <td>13.0168</td>\n",
       "      <td>-4.2108</td>\n",
       "    </tr>\n",
       "    <tr>\n",
       "      <th>4</th>\n",
       "      <td>test_4</td>\n",
       "      <td>11.7058</td>\n",
       "      <td>-0.1327</td>\n",
       "      <td>14.1295</td>\n",
       "      <td>7.7506</td>\n",
       "      <td>9.1035</td>\n",
       "      <td>-8.5848</td>\n",
       "      <td>6.8595</td>\n",
       "      <td>10.6048</td>\n",
       "      <td>2.9890</td>\n",
       "      <td>...</td>\n",
       "      <td>4.2259</td>\n",
       "      <td>9.1723</td>\n",
       "      <td>1.2835</td>\n",
       "      <td>3.3778</td>\n",
       "      <td>19.5542</td>\n",
       "      <td>-0.2860</td>\n",
       "      <td>-5.1612</td>\n",
       "      <td>7.2882</td>\n",
       "      <td>13.9260</td>\n",
       "      <td>-9.1846</td>\n",
       "    </tr>\n",
       "  </tbody>\n",
       "</table>\n",
       "<p>5 rows × 201 columns</p>\n",
       "</div>"
      ],
      "text/plain": [
       "  ID_code    var_0    var_1    var_2   var_3    var_4   var_5   var_6  \\\n",
       "0  test_0  11.0656   7.7798  12.9536  9.4292  11.4327 -2.3805  5.8493   \n",
       "1  test_1   8.5304   1.2543  11.3047  5.1858   9.1974 -4.0117  6.0196   \n",
       "2  test_2   5.4827 -10.3581  10.1407  7.0479  10.2628  9.8052  4.8950   \n",
       "3  test_3   8.5374  -1.3222  12.0220  6.5749   8.8458  3.1744  4.9397   \n",
       "4  test_4  11.7058  -0.1327  14.1295  7.7506   9.1035 -8.5848  6.8595   \n",
       "\n",
       "     var_7   var_8   ...     var_190  var_191  var_192  var_193  var_194  \\\n",
       "0  18.2675  2.1337   ...     -2.1556  11.8495  -1.4300   2.4508  13.7112   \n",
       "1  18.6316 -4.4131   ...     10.6165   8.8349   0.9403  10.1282  15.5765   \n",
       "2  20.2537  1.5233   ...     -0.7484  10.9935   1.9803   2.1800  12.9813   \n",
       "3  20.5660  3.3755   ...      9.5702   9.0766   1.6580   3.5813  15.1874   \n",
       "4  10.6048  2.9890   ...      4.2259   9.1723   1.2835   3.3778  19.5542   \n",
       "\n",
       "   var_195  var_196  var_197  var_198  var_199  \n",
       "0   2.4669   4.3654  10.7200  15.4722  -8.7197  \n",
       "1   0.4773  -1.4852   9.8714  19.1293 -20.9760  \n",
       "2   2.1281  -7.1086   7.0618  19.8956 -23.1794  \n",
       "3   3.1656   3.9567   9.2295  13.0168  -4.2108  \n",
       "4  -0.2860  -5.1612   7.2882  13.9260  -9.1846  \n",
       "\n",
       "[5 rows x 201 columns]"
      ]
     },
     "execution_count": 84,
     "metadata": {},
     "output_type": "execute_result"
    }
   ],
   "source": [
    "test.head()"
   ]
  },
  {
   "cell_type": "code",
   "execution_count": 89,
   "metadata": {},
   "outputs": [
    {
     "name": "stdout",
     "output_type": "stream",
     "text": [
      "test_features shape (200000, 200)\n",
      "result_df shape (200000, 1)\n",
      "Wall time: 215 ms\n"
     ]
    }
   ],
   "source": [
    "%%time\n",
    "\n",
    "test_features = test.drop(['ID_code'], axis=1) #np.array(test)[:,1:]\n",
    "result_df = pd.DataFrame(test[\"ID_code\"])\n",
    "\n",
    "print(\"test_features shape\", test_features.shape)\n",
    "print(\"result_df shape\", result_df.shape)"
   ]
  },
  {
   "cell_type": "markdown",
   "metadata": {},
   "source": [
    "Scale the data"
   ]
  },
  {
   "cell_type": "code",
   "execution_count": 90,
   "metadata": {},
   "outputs": [
    {
     "name": "stdout",
     "output_type": "stream",
     "text": [
      "Wall time: 508 ms\n"
     ]
    }
   ],
   "source": [
    "%%time\n",
    "test_scaled = scaler.transform(test_features)"
   ]
  },
  {
   "cell_type": "code",
   "execution_count": 91,
   "metadata": {},
   "outputs": [
    {
     "data": {
      "text/html": [
       "<div>\n",
       "<style scoped>\n",
       "    .dataframe tbody tr th:only-of-type {\n",
       "        vertical-align: middle;\n",
       "    }\n",
       "\n",
       "    .dataframe tbody tr th {\n",
       "        vertical-align: top;\n",
       "    }\n",
       "\n",
       "    .dataframe thead th {\n",
       "        text-align: right;\n",
       "    }\n",
       "</style>\n",
       "<table border=\"1\" class=\"dataframe\">\n",
       "  <thead>\n",
       "    <tr style=\"text-align: right;\">\n",
       "      <th></th>\n",
       "      <th>0</th>\n",
       "      <th>1</th>\n",
       "      <th>2</th>\n",
       "      <th>3</th>\n",
       "      <th>4</th>\n",
       "      <th>5</th>\n",
       "      <th>6</th>\n",
       "      <th>7</th>\n",
       "      <th>8</th>\n",
       "      <th>9</th>\n",
       "      <th>...</th>\n",
       "      <th>190</th>\n",
       "      <th>191</th>\n",
       "      <th>192</th>\n",
       "      <th>193</th>\n",
       "      <th>194</th>\n",
       "      <th>195</th>\n",
       "      <th>196</th>\n",
       "      <th>197</th>\n",
       "      <th>198</th>\n",
       "      <th>199</th>\n",
       "    </tr>\n",
       "  </thead>\n",
       "  <tbody>\n",
       "    <tr>\n",
       "      <th>0</th>\n",
       "      <td>0.535360</td>\n",
       "      <td>0.897837</td>\n",
       "      <td>0.628717</td>\n",
       "      <td>0.715833</td>\n",
       "      <td>0.548256</td>\n",
       "      <td>0.607399</td>\n",
       "      <td>0.574061</td>\n",
       "      <td>0.578182</td>\n",
       "      <td>0.601954</td>\n",
       "      <td>0.666409</td>\n",
       "      <td>...</td>\n",
       "      <td>0.365097</td>\n",
       "      <td>0.749230</td>\n",
       "      <td>0.195180</td>\n",
       "      <td>0.456168</td>\n",
       "      <td>0.266369</td>\n",
       "      <td>0.810571</td>\n",
       "      <td>0.566680</td>\n",
       "      <td>0.788006</td>\n",
       "      <td>0.464797</td>\n",
       "      <td>0.447387</td>\n",
       "    </tr>\n",
       "    <tr>\n",
       "      <th>1</th>\n",
       "      <td>0.408005</td>\n",
       "      <td>0.641132</td>\n",
       "      <td>0.533050</td>\n",
       "      <td>0.395056</td>\n",
       "      <td>0.355501</td>\n",
       "      <td>0.574572</td>\n",
       "      <td>0.601977</td>\n",
       "      <td>0.594479</td>\n",
       "      <td>0.276928</td>\n",
       "      <td>0.259747</td>\n",
       "      <td>...</td>\n",
       "      <td>0.758807</td>\n",
       "      <td>0.593904</td>\n",
       "      <td>0.389199</td>\n",
       "      <td>0.719905</td>\n",
       "      <td>0.365408</td>\n",
       "      <td>0.601884</td>\n",
       "      <td>0.385026</td>\n",
       "      <td>0.647505</td>\n",
       "      <td>0.650104</td>\n",
       "      <td>0.265418</td>\n",
       "    </tr>\n",
       "    <tr>\n",
       "      <th>2</th>\n",
       "      <td>0.254905</td>\n",
       "      <td>0.184314</td>\n",
       "      <td>0.465517</td>\n",
       "      <td>0.535820</td>\n",
       "      <td>0.447373</td>\n",
       "      <td>0.852630</td>\n",
       "      <td>0.417628</td>\n",
       "      <td>0.667081</td>\n",
       "      <td>0.571650</td>\n",
       "      <td>0.599619</td>\n",
       "      <td>...</td>\n",
       "      <td>0.408475</td>\n",
       "      <td>0.705125</td>\n",
       "      <td>0.474327</td>\n",
       "      <td>0.446866</td>\n",
       "      <td>0.227615</td>\n",
       "      <td>0.775034</td>\n",
       "      <td>0.210427</td>\n",
       "      <td>0.182324</td>\n",
       "      <td>0.688933</td>\n",
       "      <td>0.232704</td>\n",
       "    </tr>\n",
       "    <tr>\n",
       "      <th>3</th>\n",
       "      <td>0.408357</td>\n",
       "      <td>0.539775</td>\n",
       "      <td>0.574667</td>\n",
       "      <td>0.500064</td>\n",
       "      <td>0.325182</td>\n",
       "      <td>0.719189</td>\n",
       "      <td>0.424956</td>\n",
       "      <td>0.681060</td>\n",
       "      <td>0.663605</td>\n",
       "      <td>0.472520</td>\n",
       "      <td>...</td>\n",
       "      <td>0.726554</td>\n",
       "      <td>0.606357</td>\n",
       "      <td>0.447945</td>\n",
       "      <td>0.495003</td>\n",
       "      <td>0.344749</td>\n",
       "      <td>0.883857</td>\n",
       "      <td>0.553991</td>\n",
       "      <td>0.541227</td>\n",
       "      <td>0.340380</td>\n",
       "      <td>0.514331</td>\n",
       "    </tr>\n",
       "    <tr>\n",
       "      <th>4</th>\n",
       "      <td>0.567520</td>\n",
       "      <td>0.586569</td>\n",
       "      <td>0.696941</td>\n",
       "      <td>0.588941</td>\n",
       "      <td>0.347404</td>\n",
       "      <td>0.482541</td>\n",
       "      <td>0.739656</td>\n",
       "      <td>0.235211</td>\n",
       "      <td>0.644417</td>\n",
       "      <td>0.427482</td>\n",
       "      <td>...</td>\n",
       "      <td>0.561812</td>\n",
       "      <td>0.611288</td>\n",
       "      <td>0.417291</td>\n",
       "      <td>0.488013</td>\n",
       "      <td>0.576606</td>\n",
       "      <td>0.521822</td>\n",
       "      <td>0.270891</td>\n",
       "      <td>0.219809</td>\n",
       "      <td>0.386450</td>\n",
       "      <td>0.440485</td>\n",
       "    </tr>\n",
       "  </tbody>\n",
       "</table>\n",
       "<p>5 rows × 200 columns</p>\n",
       "</div>"
      ],
      "text/plain": [
       "        0         1         2         3         4         5         6    \\\n",
       "0  0.535360  0.897837  0.628717  0.715833  0.548256  0.607399  0.574061   \n",
       "1  0.408005  0.641132  0.533050  0.395056  0.355501  0.574572  0.601977   \n",
       "2  0.254905  0.184314  0.465517  0.535820  0.447373  0.852630  0.417628   \n",
       "3  0.408357  0.539775  0.574667  0.500064  0.325182  0.719189  0.424956   \n",
       "4  0.567520  0.586569  0.696941  0.588941  0.347404  0.482541  0.739656   \n",
       "\n",
       "        7         8         9      ...          190       191       192  \\\n",
       "0  0.578182  0.601954  0.666409    ...     0.365097  0.749230  0.195180   \n",
       "1  0.594479  0.276928  0.259747    ...     0.758807  0.593904  0.389199   \n",
       "2  0.667081  0.571650  0.599619    ...     0.408475  0.705125  0.474327   \n",
       "3  0.681060  0.663605  0.472520    ...     0.726554  0.606357  0.447945   \n",
       "4  0.235211  0.644417  0.427482    ...     0.561812  0.611288  0.417291   \n",
       "\n",
       "        193       194       195       196       197       198       199  \n",
       "0  0.456168  0.266369  0.810571  0.566680  0.788006  0.464797  0.447387  \n",
       "1  0.719905  0.365408  0.601884  0.385026  0.647505  0.650104  0.265418  \n",
       "2  0.446866  0.227615  0.775034  0.210427  0.182324  0.688933  0.232704  \n",
       "3  0.495003  0.344749  0.883857  0.553991  0.541227  0.340380  0.514331  \n",
       "4  0.488013  0.576606  0.521822  0.270891  0.219809  0.386450  0.440485  \n",
       "\n",
       "[5 rows x 200 columns]"
      ]
     },
     "execution_count": 91,
     "metadata": {},
     "output_type": "execute_result"
    }
   ],
   "source": [
    "pd.DataFrame(test_scaled).head(5)"
   ]
  },
  {
   "cell_type": "markdown",
   "metadata": {},
   "source": [
    "Convert probability to class"
   ]
  },
  {
   "cell_type": "code",
   "execution_count": 107,
   "metadata": {},
   "outputs": [
    {
     "name": "stdout",
     "output_type": "stream",
     "text": [
      "  ID_code  target  classification  probability\n",
      "0  test_0     0.2               0          0.1\n",
      "1  test_1     0.3               0          0.2\n",
      "2  test_2     0.0               0          0.0\n",
      "3  test_3     0.2               0          0.3\n",
      "4  test_4     0.1               0          0.0\n",
      "Wall time: 2.74 s\n"
     ]
    }
   ],
   "source": [
    "%%time\n",
    "result_df['probability'] = np.round(model.predict(test_scaled), 1)\n",
    "result_df['classification'] = prob_to_class(x=result_df['probability'], threshold=0.5)\n",
    "\n",
    "print(result_df.head(5))"
   ]
  },
  {
   "cell_type": "code",
   "execution_count": 108,
   "metadata": {},
   "outputs": [
    {
     "data": {
      "text/plain": [
       "0    96.9995\n",
       "1     3.0005\n",
       "Name: classification, dtype: float64"
      ]
     },
     "execution_count": 108,
     "metadata": {},
     "output_type": "execute_result"
    }
   ],
   "source": [
    "result_df['classification'].value_counts()/result_df.shape[0]*100"
   ]
  },
  {
   "cell_type": "code",
   "execution_count": 95,
   "metadata": {},
   "outputs": [],
   "source": [
    "import time\n",
    "\n",
    "t = time.localtime()\n",
    "timestamp = time.strftime('%Y%m%d_%H%M', t)\n",
    "save_filename = (\"score/nn_result-\" + timestamp + \".csv\")\n",
    "\n",
    "result_df = result_df.rename(columns={'probability': 'target'}) # rename to match submission criteria\n",
    "result_df[['ID_code', 'target']].to_csv(save_filename, index=False)"
   ]
  },
  {
   "cell_type": "code",
   "execution_count": null,
   "metadata": {},
   "outputs": [],
   "source": []
  }
 ],
 "metadata": {
  "kernelspec": {
   "display_name": "Python 3",
   "language": "python",
   "name": "python3"
  },
  "language_info": {
   "codemirror_mode": {
    "name": "ipython",
    "version": 3
   },
   "file_extension": ".py",
   "mimetype": "text/x-python",
   "name": "python",
   "nbconvert_exporter": "python",
   "pygments_lexer": "ipython3",
   "version": "3.5.5"
  }
 },
 "nbformat": 4,
 "nbformat_minor": 2
}
